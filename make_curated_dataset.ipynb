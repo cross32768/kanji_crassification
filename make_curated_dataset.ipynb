{
 "cells": [
  {
   "cell_type": "code",
   "execution_count": 7,
   "metadata": {},
   "outputs": [],
   "source": [
    "import os\n",
    "import shutil"
   ]
  },
  {
   "cell_type": "code",
   "execution_count": 8,
   "metadata": {},
   "outputs": [],
   "source": [
    "# 漢字1文字をkmnistのkkanji2におけるファイルネーム（utf-16？）に変換する\n",
    "# kkanji2はkmnist（https://github.com/rois-codh/kmnist )でのKuzushiji-Kanjiのこと\n",
    "def kanji2dirname_for_kkanji2(kanji):\n",
    "    hex_encode = kanji.encode('utf-16').hex()\n",
    "    hex_encode = (hex_encode[-2:] + hex_encode[-4:-2]).upper()\n",
    "    return 'U+' + hex_encode"
   ]
  },
  {
   "cell_type": "code",
   "execution_count": 9,
   "metadata": {},
   "outputs": [],
   "source": [
    "# 今は数が少ないので直書きしてあるが、複雑な条件で使用する漢字を選ぶときはこの関数に書くことを想定\n",
    "def select_kanji():\n",
    "    return ['何', '河', '阿',\n",
    "            '拾', '給',\n",
    "            '紅', '江',\n",
    "            '波', '彼',\n",
    "            '砂', '沙',\n",
    "            '位', '泣']"
   ]
  },
  {
   "cell_type": "code",
   "execution_count": 10,
   "metadata": {},
   "outputs": [],
   "source": [
    "# 選択された漢字がデータセットの中に幾つあるかカウントする\n",
    "def count_selected_kanji(original_dir, kanji_list):\n",
    "    count_dict = {}\n",
    "    for kanji in kanji_list:\n",
    "        dir_name = kanji2dirname_for_kkanji2(kanji)\n",
    "        count_dict[kanji] = len(os.listdir(original_dir + dir_name))\n",
    "    return count_dict"
   ]
  },
  {
   "cell_type": "code",
   "execution_count": 11,
   "metadata": {},
   "outputs": [],
   "source": [
    "# 元のデータセットディレクトリ\n",
    "original_dir = '../../data/kkanji2/'\n",
    "\n",
    "# 精選後のデータを格納するディレクトリ（ついでにディレクトリも全て展開して画像直置きに）\n",
    "curated_kanji_dir = '../../data/kkanji2_curated/'"
   ]
  },
  {
   "cell_type": "code",
   "execution_count": 12,
   "metadata": {},
   "outputs": [
    {
     "name": "stdout",
     "output_type": "stream",
     "text": [
      "{'阿': 28, '拾': 40, '何': 728, '泣': 50, '紅': 67, '給': 524, '位': 54, '沙': 30, '江': 395, '砂': 58, '波': 68, '彼': 143, '河': 93}\n"
     ]
    }
   ],
   "source": [
    "# 各漢字の登場回数をチェック\n",
    "print(count_selected_kanji(original_dir, select_kanji()))"
   ]
  },
  {
   "cell_type": "code",
   "execution_count": 14,
   "metadata": {},
   "outputs": [],
   "source": [
    "# 精選された漢字データを格納するディレクトリがなければ作る　既にある場合は何もしない\n",
    "if not os.path.exists(curated_kanji_dir):\n",
    "    os.mkdir(curated_kanji_dir)\n",
    "    \n",
    "# 既にディレクトリがあり、中に何か入っていたら実行しない\n",
    "assert (len(os.listdir(curated_kanji_dir)) == 0)\n",
    "\n",
    "# 漢字をselectに従って元のデータセットから選び出し、curated_kanji_dirに画像を直置きする形でコピー\n",
    "# ファイルの名前（***.png）は, 元々ディレクトリ名になっていた漢字のラベルを継承するため、最初6文字をutf-16のhexにする\n",
    "kanji_list = select_kanji()\n",
    "for kanji in kanji_list:\n",
    "    dir_name = kanji2dirname_for_kkanji2(kanji)\n",
    "    file_list = os.listdir(original_dir + dir_name)\n",
    "    for file in file_list:\n",
    "        file_path = original_dir + dir_name + '/' + file\n",
    "        shutil.copyfile(file_path, curated_kanji_dir + dir_name + file)"
   ]
  },
  {
   "cell_type": "code",
   "execution_count": 15,
   "metadata": {},
   "outputs": [
    {
     "name": "stdout",
     "output_type": "stream",
     "text": [
      "2278\n"
     ]
    }
   ],
   "source": [
    "# データの総数を確認\n",
    "print(len(os.listdir(curated_kanji_dir)))"
   ]
  },
  {
   "cell_type": "code",
   "execution_count": 19,
   "metadata": {},
   "outputs": [],
   "source": [
    "# テストデータも選出しておく\n",
    "def select_kanji_for_test():\n",
    "    return ['抄', '紗'] # '拉'はなかった\n",
    "\n",
    "curated_kanji_dir_for_test = '../../data/kkanji2_curated_for_test/'"
   ]
  },
  {
   "cell_type": "code",
   "execution_count": 21,
   "metadata": {},
   "outputs": [],
   "source": [
    "# これも関数化したほうが良いな\n",
    "# 精選された漢字データを格納するディレクトリがなければ作る　既にある場合は何もしない\n",
    "if not os.path.exists(curated_kanji_dir_for_test):\n",
    "    os.mkdir(curated_kanji_dir_for_test)\n",
    "    \n",
    "# 既にディレクトリがあり、中に何か入っていたら実行しない\n",
    "assert (len(os.listdir(curated_kanji_dir_for_test)) == 0)\n",
    "\n",
    "# 漢字をselectに従って元のデータセットから選び出し、curated_kanji_dirに画像を直置きする形でコピー\n",
    "# ファイルの名前（***.png）は, 元々ディレクトリ名になっていた漢字のラベルを継承するため、最初6文字をutf-16のhexにする\n",
    "kanji_list = select_kanji_for_test()\n",
    "for kanji in kanji_list:\n",
    "    dir_name = kanji2dirname_for_kkanji2(kanji)\n",
    "    file_list = os.listdir(original_dir + dir_name)\n",
    "    for file in file_list:\n",
    "        file_path = original_dir + dir_name + '/' + file\n",
    "        shutil.copyfile(file_path, curated_kanji_dir_for_test + dir_name + file)"
   ]
  },
  {
   "cell_type": "code",
   "execution_count": null,
   "metadata": {},
   "outputs": [],
   "source": []
  },
  {
   "cell_type": "code",
   "execution_count": null,
   "metadata": {},
   "outputs": [],
   "source": []
  }
 ],
 "metadata": {
  "kernelspec": {
   "display_name": "Python 3",
   "language": "python",
   "name": "python3"
  },
  "language_info": {
   "codemirror_mode": {
    "name": "ipython",
    "version": 3
   },
   "file_extension": ".py",
   "mimetype": "text/x-python",
   "name": "python",
   "nbconvert_exporter": "python",
   "pygments_lexer": "ipython3",
   "version": "3.5.2"
  }
 },
 "nbformat": 4,
 "nbformat_minor": 2
}
