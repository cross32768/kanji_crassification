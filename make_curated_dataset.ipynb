{
 "cells": [
  {
   "cell_type": "code",
   "execution_count": 1,
   "metadata": {},
   "outputs": [],
   "source": [
    "import os\n",
    "import shutil"
   ]
  },
  {
   "cell_type": "code",
   "execution_count": 2,
   "metadata": {},
   "outputs": [],
   "source": [
    "# 漢字1文字をkmnistのkkanji2におけるファイルネーム（utf-16？）に変換する\n",
    "# kkanji2はkmnist（https://github.com/rois-codh/kmnist )でのKuzushiji-Kanjiのこと\n",
    "def kanji2dirname_for_kkanji2(kanji):\n",
    "    hex_encode = kanji.encode('utf-16').hex()\n",
    "    hex_encode = (hex_encode[-2:] + hex_encode[-4:-2]).upper()\n",
    "    return 'U+' + hex_encode"
   ]
  },
  {
   "cell_type": "code",
   "execution_count": 3,
   "metadata": {},
   "outputs": [],
   "source": [
    "# 今は数が少ないので直書きしてあるが、複雑な条件で使用する漢字を選ぶときはこの関数に書くことを想定\n",
    "def select_kanji():\n",
    "    return ['何', '河', '阿',\n",
    "            '拾', '給',\n",
    "            '紅', '江',\n",
    "            '波', '彼',\n",
    "            '砂', '沙',\n",
    "            '位', '泣']"
   ]
  },
  {
   "cell_type": "code",
   "execution_count": 4,
   "metadata": {},
   "outputs": [],
   "source": [
    "# 選択された漢字がデータセットの中に幾つあるかカウントする\n",
    "def count_selected_kanji(original_dir, kanji_list):\n",
    "    count_dict = {}\n",
    "    for kanji in kanji_list:\n",
    "        dir_name = kanji2dirname_for_kkanji2(kanji)\n",
    "        count_dict[kanji] = len(os.listdir(original_dir + dir_name))\n",
    "    return count_dict"
   ]
  },
  {
   "cell_type": "code",
   "execution_count": 5,
   "metadata": {},
   "outputs": [],
   "source": [
    "# 元のデータセットディレクトリ\n",
    "original_dir = '../../data/kkanji2/'\n",
    "\n",
    "# 精選後のデータを格納するディレクトリ（ついでにディレクトリも全て展開して画像直置きに）\n",
    "curated_kanji_dir = '../../data/kkanji2_curated/'"
   ]
  },
  {
   "cell_type": "code",
   "execution_count": 6,
   "metadata": {},
   "outputs": [
    {
     "name": "stdout",
     "output_type": "stream",
     "text": [
      "{'給': 524, '何': 728, '拾': 40, '沙': 30, '阿': 28, '彼': 143, '位': 54, '紅': 67, '河': 93, '砂': 58, '江': 395, '泣': 50, '波': 68}\n"
     ]
    }
   ],
   "source": [
    "# 各漢字の登場回数をチェック\n",
    "print(count_selected_kanji(original_dir, select_kanji()))"
   ]
  },
  {
   "cell_type": "code",
   "execution_count": 7,
   "metadata": {},
   "outputs": [
    {
     "ename": "AssertionError",
     "evalue": "",
     "output_type": "error",
     "traceback": [
      "\u001b[0;31m---------------------------------------------------------------------------\u001b[0m",
      "\u001b[0;31mAssertionError\u001b[0m                            Traceback (most recent call last)",
      "\u001b[0;32m<ipython-input-7-e88e8aa80449>\u001b[0m in \u001b[0;36m<module>\u001b[0;34m()\u001b[0m\n\u001b[1;32m      4\u001b[0m \u001b[0;34m\u001b[0m\u001b[0m\n\u001b[1;32m      5\u001b[0m \u001b[0;31m# 既にディレクトリがあり、中に何か入っていたら実行しない\u001b[0m\u001b[0;34m\u001b[0m\u001b[0;34m\u001b[0m\u001b[0m\n\u001b[0;32m----> 6\u001b[0;31m \u001b[0;32massert\u001b[0m \u001b[0;34m(\u001b[0m\u001b[0mlen\u001b[0m\u001b[0;34m(\u001b[0m\u001b[0mos\u001b[0m\u001b[0;34m.\u001b[0m\u001b[0mlistdir\u001b[0m\u001b[0;34m(\u001b[0m\u001b[0mcurated_kanji_dir\u001b[0m\u001b[0;34m)\u001b[0m\u001b[0;34m)\u001b[0m \u001b[0;34m==\u001b[0m \u001b[0;36m0\u001b[0m\u001b[0;34m)\u001b[0m\u001b[0;34m\u001b[0m\u001b[0m\n\u001b[0m\u001b[1;32m      7\u001b[0m \u001b[0;34m\u001b[0m\u001b[0m\n\u001b[1;32m      8\u001b[0m \u001b[0;31m# 漢字をselectに従って元のデータセットから選び出し、curated_kanji_dirに画像を直置きする形でコピー\u001b[0m\u001b[0;34m\u001b[0m\u001b[0;34m\u001b[0m\u001b[0m\n",
      "\u001b[0;31mAssertionError\u001b[0m: "
     ]
    }
   ],
   "source": [
    "# 精選された漢字データを格納するディレクトリがなければ作る　既にある場合は何もしない\n",
    "if not os.path.exists(curated_kanji_dir):\n",
    "    os.mkdir(curated_kanji_dir)\n",
    "    \n",
    "# 既にディレクトリがあり、中に何か入っていたら実行しない\n",
    "assert (len(os.listdir(curated_kanji_dir)) == 0)\n",
    "\n",
    "# 漢字をselectに従って元のデータセットから選び出し、curated_kanji_dirに画像を直置きする形でコピー\n",
    "# ファイルの名前（***.png）は変更しない\n",
    "kanji_list = select_kanji()\n",
    "for kanji in kanji_list:\n",
    "    dir_name = kanji2dirname_for_kkanji2(kanji)\n",
    "    file_list = os.listdir(original_dir + dir_name)\n",
    "    for file in file_list:\n",
    "        file_path = original_dir + dir_name + '/' + file\n",
    "        shutil.copy(file_path, curated_kanji_dir)"
   ]
  },
  {
   "cell_type": "code",
   "execution_count": 8,
   "metadata": {},
   "outputs": [
    {
     "name": "stdout",
     "output_type": "stream",
     "text": [
      "2278\n"
     ]
    }
   ],
   "source": [
    "# データの総数を確認\n",
    "print(len(os.listdir(curated_kanji_dir)))"
   ]
  },
  {
   "cell_type": "code",
   "execution_count": null,
   "metadata": {},
   "outputs": [],
   "source": []
  }
 ],
 "metadata": {
  "kernelspec": {
   "display_name": "Python 3",
   "language": "python",
   "name": "python3"
  },
  "language_info": {
   "codemirror_mode": {
    "name": "ipython",
    "version": 3
   },
   "file_extension": ".py",
   "mimetype": "text/x-python",
   "name": "python",
   "nbconvert_exporter": "python",
   "pygments_lexer": "ipython3",
   "version": "3.5.2"
  }
 },
 "nbformat": 4,
 "nbformat_minor": 2
}
