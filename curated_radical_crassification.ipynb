{
 "cells": [
  {
   "cell_type": "code",
   "execution_count": 1,
   "metadata": {},
   "outputs": [
    {
     "name": "stdout",
     "output_type": "stream",
     "text": [
      "PyTorch version: 1.0.0\n",
      "torchvision version: 0.2.1\n",
      "Is GPU available: True\n"
     ]
    }
   ],
   "source": [
    "import numpy as np\n",
    "import matplotlib.pyplot as plt\n",
    "import json\n",
    "import os\n",
    "from PIL import Image\n",
    "from sklearn.model_selection import train_test_split\n",
    "\n",
    "import torch\n",
    "from torch import nn, optim\n",
    "from torch.nn import functional as F\n",
    "from torch.utils.data import Dataset, DataLoader\n",
    "\n",
    "import torchvision\n",
    "from torchvision import transforms\n",
    "from torchvision.utils import make_grid\n",
    "\n",
    "print('PyTorch version:', torch.__version__)\n",
    "print('torchvision version:', torchvision.__version__)\n",
    "use_gpu = torch.cuda.is_available()\n",
    "print('Is GPU available:', use_gpu)"
   ]
  },
  {
   "cell_type": "code",
   "execution_count": 2,
   "metadata": {},
   "outputs": [],
   "source": [
    "# 全体的な設定\n",
    "device = torch.device('cuda' if use_gpu else 'cpu')\n",
    "\n",
    "batchsize = 64\n",
    "\n",
    "# シード値の指定（cuDNNによるランダム性などはまだ残っているので、厳密ではない）\n",
    "seed = 1\n",
    "torch.manual_seed(seed)\n",
    "if use_gpu:\n",
    "    torch.cuda.manual_seed(seed)"
   ]
  },
  {
   "cell_type": "code",
   "execution_count": 3,
   "metadata": {},
   "outputs": [],
   "source": [
    "root_dir = '../../data/'\n",
    "\n",
    "# 訓練画像が入っているディレクトリ\n",
    "image_dir = root_dir + 'kkanji2_curated/'\n",
    "\n",
    "# ログと重みを保存するためのディレクトリ\n",
    "log_dir = root_dir + 'kkanji2_curated_log/'\n",
    "if not os.path.exists(log_dir):\n",
    "    os.mkdir(log_dir)\n",
    "\n",
    "# ラベルのためのjsonを読み込む\n",
    "# このjsonファイルは\"json_preprocessing.ipynb\"で　漢字 ->　部首のリスト のjsonから utf16の下４桁 -> 部首のリストのjsonに前処理済\n",
    "with open(root_dir + 'kanjivg_radical/utf16_to_radical.json') as f:\n",
    "    utf16_to_radical = json.load(f)"
   ]
  },
  {
   "cell_type": "code",
   "execution_count": 4,
   "metadata": {},
   "outputs": [
    {
     "data": {
      "text/plain": [
       "{'⻖': 0,\n",
       " '亻': 1,\n",
       " '可': 7,\n",
       " '合': 8,\n",
       " '少': 11,\n",
       " '工': 9,\n",
       " '彳': 4,\n",
       " '扌': 6,\n",
       " '氵': 2,\n",
       " '皮': 10,\n",
       " '石': 5,\n",
       " '立': 12,\n",
       " '糸': 3}"
      ]
     },
     "execution_count": 4,
     "metadata": {},
     "output_type": "execute_result"
    }
   ],
   "source": [
    "# 今は数が少ないので直書きしてあるが、より複雑な条件で部首を選ぶならここに書くことを想定\n",
    "def select_radical():\n",
    "    return ['⻖', '亻', '氵', '糸', '彳', '石', '扌',\n",
    "            '可', '合', '工', '皮', '少', '立']\n",
    "\n",
    "radical_list = select_radical()\n",
    "n_radical = len(radical_list)\n",
    "\n",
    "# one-hotに変換するための前準備としてradical -> indexのdictを作っておく\n",
    "radical_dict = {}\n",
    "for i, radical in enumerate(radical_list):\n",
    "    radical_dict[radical] = i\n",
    "    \n",
    "radical_dict"
   ]
  },
  {
   "cell_type": "code",
   "execution_count": 5,
   "metadata": {},
   "outputs": [],
   "source": [
    "# ラベルの構築及び学習画像とまとめるためのデータセットクラスを作成\n",
    "# 画像が入ったディレクトリ名、データセットの構築に使うファイルの名前のリスト、utf16（hex）の下4桁を部首のリストに変換する.json、\n",
    "# 先ほど準備した部首を対応するインデックスに変換するdict, 画像に対するtransformを受け取ってデータセットを作る\n",
    "class KanjiRadicalDataset(Dataset):\n",
    "    def __init__(self, image_dir, image_name_list, utf16_to_radical, radical_dict, transform=None):\n",
    "        self.image_dir = image_dir\n",
    "        # os.listdir()は順序を保証しないのでここでもソートを入れておく\n",
    "        self.image_name_list = sorted(image_name_list)\n",
    "        \n",
    "        self.utf16_to_radical = utf16_to_radical\n",
    "        self.radical_dict = radical_dict\n",
    "        \n",
    "        self.n_radical = len(radical_dict)\n",
    "        self.transform = transform\n",
    "        \n",
    "    def __len__(self):\n",
    "        return len(self.image_name_list)\n",
    "    \n",
    "    def __getitem__(self, idx):\n",
    "        image_name = self.image_name_list[idx]        \n",
    "        image = Image.open(self.image_dir + image_name)\n",
    "        if self.transform:\n",
    "            image = self.transform(image)\n",
    "            \n",
    "        # one-hotラベルを作る\n",
    "        label = torch.zeros(self.n_radical)\n",
    "        utf16_code = image_name[2:6] # make_curated_datasetのところでここがutf-16(hex)の下4桁の形で漢字のラベルを表すようにした\n",
    "        radicals = self.utf16_to_radical[utf16_code]\n",
    "        for radical in radicals:\n",
    "            if radical in radical_dict.keys(): # 今回対象になっている部首以外は無視\n",
    "                label[radical_dict[radical]] = 1\n",
    "            \n",
    "        return image, label"
   ]
  },
  {
   "cell_type": "code",
   "execution_count": 6,
   "metadata": {},
   "outputs": [
    {
     "name": "stdout",
     "output_type": "stream",
     "text": [
      "The number of training data: 1822\n",
      "The number of validation data: 456\n"
     ]
    }
   ],
   "source": [
    "# train_test_splitで分割（高速化のためフォルダ内のファイルの名前を分割している）\n",
    "train_name_list, validation_name_list = train_test_split(sorted(os.listdir(image_dir)),\n",
    "                                                         test_size = 0.2, \n",
    "                                                         random_state = seed)\n",
    "\n",
    "# data augmentationとして周囲4マスをゼロパディングしてそこから64x64をランダムクロップしている（data augmentationは今ここだけ）\n",
    "# ToTensor()で0~1の範囲に収めて、そこからNormalize()で-1~1の範囲にしているが、このNormalize()に渡す値は0.5ではよいか微妙\n",
    "tf_train = transforms.Compose([transforms.RandomCrop(64, padding=4), \\\n",
    "                               transforms.ToTensor(), transforms.Normalize((0.5,), (0.5,))])\n",
    "# validationではランダムクロップはしない\n",
    "tf_validation = transforms.Compose([transforms.ToTensor(), transforms.Normalize((0.5,), (0.5,))])\n",
    "\n",
    "train_data = KanjiRadicalDataset(image_dir, train_name_list, \\\n",
    "                                 utf16_to_radical, radical_dict, transform=tf_train)\n",
    "validation_data = KanjiRadicalDataset(image_dir, validation_name_list, \\\n",
    "                                      utf16_to_radical, radical_dict, transform=tf_validation)\n",
    "\n",
    "print('The number of training data:', len(train_data))\n",
    "print('The number of validation data:', len(validation_data))\n",
    "\n",
    "# make DataLoader\n",
    "train_loader = DataLoader(train_data, batch_size=batchsize, shuffle=True, num_workers=4)\n",
    "validation_loader = DataLoader(validation_data, batch_size=batchsize, shuffle=False, num_workers=4)"
   ]
  },
  {
   "cell_type": "code",
   "execution_count": 7,
   "metadata": {},
   "outputs": [],
   "source": [
    "# 比較的シンプルなCNN\n",
    "# 精度は悪いと思うが、下のPreActResNet-18は重いので簡単な実験にはこちらを使ったほうが良い（でもGPUは必須）\n",
    "# 普通のシンプルなCNN\n",
    "class SimpleCNN(nn.Module):\n",
    "    def __init__(self, n_out):\n",
    "        super(SimpleCNN, self).__init__()\n",
    "        base_n_layers = 64\n",
    "        self.layers1 = nn.Sequential(\n",
    "                            nn.Conv2d(1, base_n_layers, kernel_size=3, stride=1, padding=1),\n",
    "                            nn.BatchNorm2d(base_n_layers),\n",
    "                            nn.ReLU(),\n",
    "                            nn.MaxPool2d(kernel_size=2, stride=2)\n",
    "        )\n",
    "        self.layers2 = nn.Sequential(\n",
    "                            nn.Conv2d(base_n_layers, base_n_layers*2, kernel_size=3, stride=1, padding=1),\n",
    "                            nn.BatchNorm2d(base_n_layers*2),\n",
    "                            nn.ReLU(),\n",
    "                            nn.MaxPool2d(kernel_size=2, stride=2)\n",
    "        )\n",
    "        self.layers3 = nn.Sequential(\n",
    "                            nn.Conv2d(base_n_layers*2, base_n_layers*4, kernel_size=3, stride=1, padding=1),\n",
    "                            nn.BatchNorm2d(base_n_layers*4),\n",
    "                            nn.ReLU(),\n",
    "                            nn.MaxPool2d(kernel_size=2, stride=2)\n",
    "        )\n",
    "        self.layers4 = nn.Sequential(\n",
    "                            nn.Conv2d(base_n_layers*4, base_n_layers*8, kernel_size=3, stride=1, padding=1),\n",
    "                            nn.BatchNorm2d(base_n_layers*8),\n",
    "                            nn.ReLU(),\n",
    "                            nn.MaxPool2d(kernel_size=2, stride=2)\n",
    "        )\n",
    "        self.fc = nn.Linear(base_n_layers*8*4*4, n_out)\n",
    "        \n",
    "    def forward(self, x):\n",
    "        out = self.layers1(x)\n",
    "        out = self.layers2(out)\n",
    "        out = self.layers3(out)\n",
    "        out = self.layers4(out)\n",
    "        \n",
    "        out = out.view(out.size(0), -1)\n",
    "        out = self.fc(out)\n",
    "        return out"
   ]
  },
  {
   "cell_type": "code",
   "execution_count": 8,
   "metadata": {},
   "outputs": [],
   "source": [
    "# https://github.com/kuangliu/pytorch-cifar/blob/master/models/preact_resnet.pyより PreActResNet-18\n",
    "# 一番最初の入力チャネルを1チャネルに変更、フィルタ数を全体的に増やしてある(4倍)\n",
    "# 本当は多分初期化（Heの初期化など？）をちゃんとやったほうが良いが、取り敢えずはこのまま\n",
    "# preactResNet-18の採用理由はkmnistの提案論文のbaselineに合わせるためだが、あれは32x32のkmnist, k49で使われたものなので、\n",
    "# 64x64のkkanjiにそのまま適用するのは微妙かも\n",
    "# データセットの提案論文ではmanifold mixupをdata augumentationとして採用しているが、取り敢えずはまだやっていない\n",
    "\n",
    "class PreActBlock(nn.Module):\n",
    "    '''Pre-activation version of the BasicBlock.'''\n",
    "    expansion = 1\n",
    "\n",
    "    def __init__(self, in_planes, planes, stride=1):\n",
    "        super(PreActBlock, self).__init__()\n",
    "        self.bn1 = nn.BatchNorm2d(in_planes)\n",
    "        self.conv1 = nn.Conv2d(in_planes, planes, kernel_size=3, stride=stride, padding=1, bias=False)\n",
    "        self.bn2 = nn.BatchNorm2d(planes)\n",
    "        self.conv2 = nn.Conv2d(planes, planes, kernel_size=3, stride=1, padding=1, bias=False)\n",
    "\n",
    "        if stride != 1 or in_planes != self.expansion*planes:\n",
    "            self.shortcut = nn.Sequential(\n",
    "                nn.Conv2d(in_planes, self.expansion*planes, kernel_size=1, stride=stride, bias=False)\n",
    "            )\n",
    "\n",
    "    def forward(self, x):\n",
    "        out = F.relu(self.bn1(x))\n",
    "        shortcut = self.shortcut(out) if hasattr(self, 'shortcut') else x\n",
    "        out = self.conv1(out)\n",
    "        out = self.conv2(F.relu(self.bn2(out)))\n",
    "        out += shortcut\n",
    "        return out\n",
    "\n",
    "    \n",
    "class PreActResNet(nn.Module):\n",
    "    def __init__(self, block, num_blocks, num_classes):\n",
    "        super(PreActResNet, self).__init__()\n",
    "        planes = 64 # ここを調整して全体のフィルタ数を変える\n",
    "        self.in_planes = planes\n",
    "        \n",
    "        self.conv1 = nn.Conv2d(1, planes, kernel_size=3, stride=1, padding=1, bias=False)\n",
    "        self.layer1 = self._make_layer(block,   planes, num_blocks[0], stride=1)\n",
    "        self.layer2 = self._make_layer(block, 2*planes, num_blocks[1], stride=2)\n",
    "        self.layer3 = self._make_layer(block, 4*planes, num_blocks[2], stride=2)\n",
    "        self.layer4 = self._make_layer(block, 8*planes, num_blocks[3], stride=2)\n",
    "        self.linear = nn.Linear(8*planes*block.expansion, num_classes)\n",
    "\n",
    "    def _make_layer(self, block, planes, num_blocks, stride):\n",
    "        strides = [stride] + [1]*(num_blocks-1)\n",
    "        layers = []\n",
    "        for stride in strides:\n",
    "            layers.append(block(self.in_planes, planes, stride))\n",
    "            self.in_planes = planes * block.expansion\n",
    "        return nn.Sequential(*layers)\n",
    "\n",
    "    def forward(self, x):\n",
    "        out = self.conv1(x)\n",
    "        out = self.layer1(out)\n",
    "        out = self.layer2(out)\n",
    "        out = self.layer3(out)\n",
    "        out = self.layer4(out)\n",
    "        out = F.avg_pool2d(out, 8) # global average poolingなのでここの数は元々から変えてある\n",
    "        out = out.view(out.size(0), -1)\n",
    "        out = self.linear(out)\n",
    "        return out\n",
    "\n",
    "def PreActResNet18(num_classes):\n",
    "    return PreActResNet(PreActBlock, [2,2,2,2], num_classes)"
   ]
  },
  {
   "cell_type": "code",
   "execution_count": 9,
   "metadata": {},
   "outputs": [
    {
     "name": "stdout",
     "output_type": "stream",
     "text": [
      "The number of trainable parameters: 1658253\n",
      "\n",
      "Model:\n",
      " SimpleCNN(\n",
      "  (layers1): Sequential(\n",
      "    (0): Conv2d(1, 64, kernel_size=(3, 3), stride=(1, 1), padding=(1, 1))\n",
      "    (1): BatchNorm2d(64, eps=1e-05, momentum=0.1, affine=True, track_running_stats=True)\n",
      "    (2): ReLU()\n",
      "    (3): MaxPool2d(kernel_size=2, stride=2, padding=0, dilation=1, ceil_mode=False)\n",
      "  )\n",
      "  (layers2): Sequential(\n",
      "    (0): Conv2d(64, 128, kernel_size=(3, 3), stride=(1, 1), padding=(1, 1))\n",
      "    (1): BatchNorm2d(128, eps=1e-05, momentum=0.1, affine=True, track_running_stats=True)\n",
      "    (2): ReLU()\n",
      "    (3): MaxPool2d(kernel_size=2, stride=2, padding=0, dilation=1, ceil_mode=False)\n",
      "  )\n",
      "  (layers3): Sequential(\n",
      "    (0): Conv2d(128, 256, kernel_size=(3, 3), stride=(1, 1), padding=(1, 1))\n",
      "    (1): BatchNorm2d(256, eps=1e-05, momentum=0.1, affine=True, track_running_stats=True)\n",
      "    (2): ReLU()\n",
      "    (3): MaxPool2d(kernel_size=2, stride=2, padding=0, dilation=1, ceil_mode=False)\n",
      "  )\n",
      "  (layers4): Sequential(\n",
      "    (0): Conv2d(256, 512, kernel_size=(3, 3), stride=(1, 1), padding=(1, 1))\n",
      "    (1): BatchNorm2d(512, eps=1e-05, momentum=0.1, affine=True, track_running_stats=True)\n",
      "    (2): ReLU()\n",
      "    (3): MaxPool2d(kernel_size=2, stride=2, padding=0, dilation=1, ceil_mode=False)\n",
      "  )\n",
      "  (fc): Linear(in_features=8192, out_features=13, bias=True)\n",
      ")\n",
      "\n",
      "Loss function:\n",
      " BCEWithLogitsLoss()\n",
      "\n",
      "Optimizer:\n",
      " Adam (\n",
      "Parameter Group 0\n",
      "    amsgrad: False\n",
      "    betas: (0.9, 0.999)\n",
      "    eps: 1e-08\n",
      "    lr: 0.001\n",
      "    weight_decay: 0.0005\n",
      ")\n"
     ]
    }
   ],
   "source": [
    "net = SimpleCNN(n_radical)\n",
    "# データが少ないせいかシンプルなCNNの方が性能が良い\n",
    "# net = PreActResNet18(n_radical)\n",
    "net = net.to(device)\n",
    "\n",
    "# ロスはbinary_cross_entropy with logits(第1引数にsigmoidをかけてbinary cross entropy)\n",
    "# NNのモデルの出力層にsigmoidをかけるより数値計算上の安定性に優れるらしい\n",
    "criterion = nn.BCEWithLogitsLoss()\n",
    "\n",
    "# この辺の設定は上述のPreActResnet-18の参考にしたリポジトリと同じ\n",
    "# 学習率は適宜手動調節すること\n",
    "# optimizer = optim.SGD(net.parameters(), lr=0.1, momentum=0.9, weight_decay=5e-4)\n",
    "\n",
    "# simple cnnなら多分Adamの方が良い\n",
    "optimizer = optim.Adam(net.parameters(), lr=0.001, weight_decay=5e-4)\n",
    "\n",
    "# 学習可能なパラメータの数\n",
    "num_trainable_params = sum(p.numel() for p in net.parameters() if p.requires_grad)\n",
    "\n",
    "print('The number of trainable parameters:', num_trainable_params)\n",
    "print('\\nModel:\\n', net)\n",
    "print('\\nLoss function:\\n', criterion)\n",
    "print('\\nOptimizer:\\n', optimizer)"
   ]
  },
  {
   "cell_type": "code",
   "execution_count": 10,
   "metadata": {},
   "outputs": [],
   "source": [
    "# ある漢字について、普通のaccuracyと、\n",
    "# その漢字の部首を全て正解した時に「正解」と定義して漢字ごとの平均accuracyと、\n",
    "# 部首ごとのaccuracyを返す\n",
    "def calculate_accuracy_per_kanji_and_radical(outputs, labels):\n",
    "    with torch.no_grad():\n",
    "        # 今回出力層に活性化はかけずにロスの中でかけてるので、accuracy計算のためにsigmoidをかける\n",
    "        # 各出力は「その部首を含む確率」を表すように学習しているので、0.5以上なら1,それ以外なら0\n",
    "        outputs = torch.sigmoid(outputs) > 0.5\n",
    "        labels = labels.type(torch.uint8)\n",
    "        is_correct = (outputs == labels)\n",
    "        # 単純な正解率\n",
    "        accuracy = is_correct.float().mean().item()\n",
    "        # その漢字が含む部首を全て正解した確率\n",
    "        accuracy_per_kanji = (torch.sum(is_correct, dim=1) == outputs.size(1)).float().mean().item()\n",
    "        # 各部首ごとの正解率、ほかはスカラだけどこれだけは長さn_radicalのnp.array\n",
    "        accuracy_per_radical = is_correct.float().mean(dim=0).cpu().numpy()\n",
    "    return [accuracy, accuracy_per_kanji, accuracy_per_radical]"
   ]
  },
  {
   "cell_type": "code",
   "execution_count": 11,
   "metadata": {
    "scrolled": true
   },
   "outputs": [],
   "source": [
    "# 1epoch分の訓練\n",
    "def train(train_loader):\n",
    "    net.train()\n",
    "    running_loss = 0\n",
    "    running_accuracy = 0\n",
    "    running_accuracy_per_kanji = 0\n",
    "    running_accuracy_per_radical = 0\n",
    "    \n",
    "    for batch_index, (inputs, labels) in enumerate(train_loader):\n",
    "        inputs, labels = inputs.to(device), labels.to(device)\n",
    "        \n",
    "        outputs = net(inputs)\n",
    "        loss = criterion(outputs, labels)\n",
    "        \n",
    "        optimizer.zero_grad()\n",
    "        loss.backward()\n",
    "        optimizer.step()\n",
    "        \n",
    "        running_loss += loss.item()\n",
    "        accuracies = calculate_accuracy_per_kanji_and_radical(outputs.detach(), labels)\n",
    "        running_accuracy += accuracies[0]\n",
    "        running_accuracy_per_kanji += accuracies[1]\n",
    "        running_accuracy_per_radical += accuracies[2]\n",
    "        \n",
    "        print('\\rtraining batch[%4d/%4d]' % (batch_index+1, len(train_loader)), end='')\n",
    "        \n",
    "    train_loss = running_loss / len(train_loader)\n",
    "    accuracy = running_accuracy / len(train_loader)\n",
    "    accuracy_per_kanji = running_accuracy_per_kanji / len(train_loader)\n",
    "    accuracy_per_radical = running_accuracy_per_radical / len(train_loader)\n",
    "    \n",
    "    return train_loss, accuracy, accuracy_per_kanji, accuracy_per_radical"
   ]
  },
  {
   "cell_type": "code",
   "execution_count": 12,
   "metadata": {},
   "outputs": [],
   "source": [
    "# 1epoch分のvalidation\n",
    "def validation(validation_loader):\n",
    "    net.eval()\n",
    "    running_loss = 0\n",
    "    running_accuracy = 0\n",
    "    running_accuracy_per_kanji = 0\n",
    "    running_accuracy_per_radical = 0\n",
    "    \n",
    "    with torch.no_grad():\n",
    "        for batch_index, (inputs, labels) in enumerate(validation_loader):\n",
    "            inputs, labels = inputs.to(device), labels.to(device)\n",
    "            \n",
    "            outputs = net(inputs)\n",
    "            loss = criterion(outputs, labels)\n",
    "            \n",
    "            running_loss += loss.item()\n",
    "            accuracies = calculate_accuracy_per_kanji_and_radical(outputs.detach(), labels)\n",
    "            running_accuracy += accuracies[0]\n",
    "            running_accuracy_per_kanji += accuracies[1]\n",
    "            running_accuracy_per_radical += accuracies[2]            \n",
    "            \n",
    "            print('\\rvalidation batch[%4d/%4d]' % (batch_index+1, len(validation_loader)), end='')\n",
    "            \n",
    "    validation_loss = running_loss / len(validation_loader)\n",
    "    accuracy = running_accuracy / len(validation_loader)\n",
    "    accuracy_per_kanji = running_accuracy_per_kanji / len(validation_loader)\n",
    "    accuracy_per_radical = running_accuracy_per_radical / len(validation_loader)\n",
    "    \n",
    "    return validation_loss, accuracy, accuracy_per_kanji, accuracy_per_radical"
   ]
  },
  {
   "cell_type": "code",
   "execution_count": 13,
   "metadata": {},
   "outputs": [
    {
     "name": "stdout",
     "output_type": "stream",
     "text": [
      "validation batch[   8/   8]\n",
      "epoch[  1/ 30] train[loss:0.283634 accuracy:0.8985 accuracy_per_kanji:0.4214] \n",
      "          validation[loss:0.338806 accuracy:0.8896 accuracy_per_kanji:0.4258]\n",
      "validation batch[   8/   8]\n",
      "epoch[  2/ 30] train[loss:0.089411 accuracy:0.9695 accuracy_per_kanji:0.7690] \n",
      "          validation[loss:0.162571 accuracy:0.9246 accuracy_per_kanji:0.4941]\n",
      "validation batch[   8/   8]\n",
      "epoch[  3/ 30] train[loss:0.052115 accuracy:0.9830 accuracy_per_kanji:0.8493] \n",
      "          validation[loss:0.071857 accuracy:0.9755 accuracy_per_kanji:0.7676]\n",
      "validation batch[   8/   8]\n",
      "epoch[  4/ 30] train[loss:0.035304 accuracy:0.9889 accuracy_per_kanji:0.8988] \n",
      "          validation[loss:0.054342 accuracy:0.9778 accuracy_per_kanji:0.7969]\n",
      "validation batch[   8/   8]\n",
      "epoch[  5/ 30] train[loss:0.027051 accuracy:0.9917 accuracy_per_kanji:0.9177] \n",
      "          validation[loss:0.026932 accuracy:0.9922 accuracy_per_kanji:0.9258]\n",
      "validation batch[   8/   8]\n",
      "epoch[  6/ 30] train[loss:0.023509 accuracy:0.9932 accuracy_per_kanji:0.9358] \n",
      "          validation[loss:0.022921 accuracy:0.9923 accuracy_per_kanji:0.9258]\n",
      "validation batch[   8/   8]\n",
      "epoch[  7/ 30] train[loss:0.017961 accuracy:0.9949 accuracy_per_kanji:0.9481] \n",
      "          validation[loss:0.034117 accuracy:0.9893 accuracy_per_kanji:0.8848]\n",
      "validation batch[   8/   8]\n",
      "epoch[  8/ 30] train[loss:0.014371 accuracy:0.9964 accuracy_per_kanji:0.9638] \n",
      "          validation[loss:0.025240 accuracy:0.9922 accuracy_per_kanji:0.9199]\n",
      "validation batch[   8/   8]\n",
      "epoch[  9/ 30] train[loss:0.013066 accuracy:0.9966 accuracy_per_kanji:0.9650] \n",
      "          validation[loss:0.027989 accuracy:0.9920 accuracy_per_kanji:0.9258]\n",
      "validation batch[   8/   8]\n",
      "epoch[ 10/ 30] train[loss:0.011008 accuracy:0.9973 accuracy_per_kanji:0.9725] \n",
      "          validation[loss:0.016962 accuracy:0.9941 accuracy_per_kanji:0.9375]\n",
      "validation batch[   8/   8]\n",
      "epoch[ 11/ 30] train[loss:0.010995 accuracy:0.9973 accuracy_per_kanji:0.9708] \n",
      "          validation[loss:0.025761 accuracy:0.9923 accuracy_per_kanji:0.9141]\n",
      "validation batch[   8/   8]\n",
      "epoch[ 12/ 30] train[loss:0.011073 accuracy:0.9978 accuracy_per_kanji:0.9758] \n",
      "          validation[loss:0.015792 accuracy:0.9938 accuracy_per_kanji:0.9277]\n",
      "validation batch[   8/   8]\n",
      "epoch[ 13/ 30] train[loss:0.008797 accuracy:0.9983 accuracy_per_kanji:0.9811] \n",
      "          validation[loss:0.031319 accuracy:0.9887 accuracy_per_kanji:0.8984]\n",
      "validation batch[   8/   8]\n",
      "epoch[ 14/ 30] train[loss:0.010168 accuracy:0.9976 accuracy_per_kanji:0.9731] \n",
      "          validation[loss:0.035185 accuracy:0.9865 accuracy_per_kanji:0.8672]\n",
      "validation batch[   8/   8]\n",
      "epoch[ 15/ 30] train[loss:0.009813 accuracy:0.9973 accuracy_per_kanji:0.9708] \n",
      "          validation[loss:0.013374 accuracy:0.9953 accuracy_per_kanji:0.9531]\n",
      "validation batch[   8/   8]\n",
      "epoch[ 16/ 30] train[loss:0.008791 accuracy:0.9984 accuracy_per_kanji:0.9811] \n",
      "          validation[loss:0.021901 accuracy:0.9913 accuracy_per_kanji:0.9180]\n",
      "validation batch[   8/   8]\n",
      "epoch[ 17/ 30] train[loss:0.006183 accuracy:0.9988 accuracy_per_kanji:0.9858] \n",
      "          validation[loss:0.020912 accuracy:0.9929 accuracy_per_kanji:0.9414]\n",
      "validation batch[   8/   8]\n",
      "epoch[ 18/ 30] train[loss:0.007331 accuracy:0.9986 accuracy_per_kanji:0.9865] \n",
      "          validation[loss:0.022302 accuracy:0.9917 accuracy_per_kanji:0.9297]\n",
      "validation batch[   8/   8]\n",
      "epoch[ 19/ 30] train[loss:0.009168 accuracy:0.9979 accuracy_per_kanji:0.9751] \n",
      "          validation[loss:0.020142 accuracy:0.9937 accuracy_per_kanji:0.9277]\n",
      "validation batch[   8/   8]\n",
      "epoch[ 20/ 30] train[loss:0.008911 accuracy:0.9981 accuracy_per_kanji:0.9795] \n",
      "          validation[loss:0.020815 accuracy:0.9941 accuracy_per_kanji:0.9434]\n",
      "validation batch[   8/   8]\n",
      "epoch[ 21/ 30] train[loss:0.006863 accuracy:0.9987 accuracy_per_kanji:0.9855] \n",
      "          validation[loss:0.014217 accuracy:0.9955 accuracy_per_kanji:0.9570]\n",
      "validation batch[   8/   8]\n",
      "epoch[ 22/ 30] train[loss:0.005483 accuracy:0.9993 accuracy_per_kanji:0.9919] \n",
      "          validation[loss:0.016740 accuracy:0.9947 accuracy_per_kanji:0.9512]\n",
      "validation batch[   8/   8]\n",
      "epoch[ 23/ 30] train[loss:0.007756 accuracy:0.9982 accuracy_per_kanji:0.9806] \n",
      "          validation[loss:0.016431 accuracy:0.9965 accuracy_per_kanji:0.9609]\n",
      "validation batch[   8/   8]\n",
      "epoch[ 24/ 30] train[loss:0.006203 accuracy:0.9988 accuracy_per_kanji:0.9869] \n",
      "          validation[loss:0.043202 accuracy:0.9836 accuracy_per_kanji:0.8691]\n",
      "validation batch[   8/   8]\n",
      "epoch[ 25/ 30] train[loss:0.006633 accuracy:0.9989 accuracy_per_kanji:0.9865] \n",
      "          validation[loss:0.024379 accuracy:0.9922 accuracy_per_kanji:0.9238]\n",
      "validation batch[   8/   8]\n",
      "epoch[ 26/ 30] train[loss:0.005859 accuracy:0.9990 accuracy_per_kanji:0.9887] \n",
      "          validation[loss:0.017644 accuracy:0.9937 accuracy_per_kanji:0.9375]\n",
      "validation batch[   8/   8]\n",
      "epoch[ 27/ 30] train[loss:0.004804 accuracy:0.9996 accuracy_per_kanji:0.9952] \n",
      "          validation[loss:0.013820 accuracy:0.9964 accuracy_per_kanji:0.9688]\n",
      "validation batch[   8/   8]\n",
      "epoch[ 28/ 30] train[loss:0.004880 accuracy:0.9995 accuracy_per_kanji:0.9935] \n",
      "          validation[loss:0.016892 accuracy:0.9940 accuracy_per_kanji:0.9434]\n",
      "validation batch[   8/   8]\n",
      "epoch[ 29/ 30] train[loss:0.006098 accuracy:0.9993 accuracy_per_kanji:0.9925] \n",
      "          validation[loss:0.028585 accuracy:0.9911 accuracy_per_kanji:0.9180]\n",
      "validation batch[   8/   8]\n",
      "epoch[ 30/ 30] train[loss:0.005418 accuracy:0.9994 accuracy_per_kanji:0.9930] \n",
      "          validation[loss:0.015429 accuracy:0.9961 accuracy_per_kanji:0.9629]\n"
     ]
    }
   ],
   "source": [
    "train_loss_list = []\n",
    "train_accuracy_list = []\n",
    "train_accuracy_per_kanji_list = []\n",
    "train_accuracy_per_radical_list = []\n",
    "\n",
    "validation_loss_list = []\n",
    "validation_accuracy_list = []\n",
    "validation_accuracy_per_kanji_list = []\n",
    "validation_accuracy_per_radical_list = []\n",
    "\n",
    "n_epochs = 30\n",
    "\n",
    "for epoch in range(n_epochs):\n",
    "    train_loss, \\\n",
    "    train_accuracy, train_accuracy_per_kanji, train_accuracy_per_radical = train(train_loader)\n",
    "    \n",
    "    validation_loss, \\\n",
    "    validation_accuracy, validation_accuracy_per_kanji, validation_accuracy_per_radical = validation(validation_loader)\n",
    "    \n",
    "    train_loss_list.append(train_loss)\n",
    "    train_accuracy_list.append(train_accuracy)\n",
    "    train_accuracy_per_kanji_list.append(train_accuracy_per_kanji)\n",
    "    train_accuracy_per_radical_list.append(train_accuracy_per_radical)\n",
    "    \n",
    "    validation_loss_list.append(validation_loss)\n",
    "    validation_accuracy_list.append(validation_accuracy)\n",
    "    validation_accuracy_per_kanji_list.append(validation_accuracy_per_kanji)\n",
    "    validation_accuracy_per_radical_list.append(validation_accuracy_per_radical)\n",
    "    \n",
    "    print('')\n",
    "    print('epoch[%3d/%3d] train[loss:%1.6f accuracy:%1.4f accuracy_per_kanji:%1.4f]' \\\n",
    "          % (epoch+1, n_epochs, train_loss, train_accuracy, train_accuracy_per_kanji), \\\n",
    "          '\\n          validation[loss:%1.6f accuracy:%1.4f accuracy_per_kanji:%1.4f]'\n",
    "          % (validation_loss, validation_accuracy, validation_accuracy_per_kanji))\n",
    "    \n",
    "    if epoch % 5 == 0 and epoch > 0:\n",
    "        torch.save(net.state_dict(), log_dir + 'weights_epoch_%d.pth' % (epoch+1))\n",
    "        torch.save(optimizer.state_dict(), log_dir + 'optimizer_epoch_%d.pth' % (epoch+1))\n",
    "    \n",
    "    # resnetのときのみ\n",
    "    # if epoch == 25 or epoch == 40:\n",
    "    #    optimizer.param_groups[0]['lr'] /= 10\n",
    "    \n",
    "np.save(log_dir + 'train_loss_list.npy', np.array(train_loss_list))\n",
    "np.save(log_dir + 'train_accuracy_list.npy', np.array(train_accuracy_list))\n",
    "np.save(log_dir + 'train_accuracy_per_kanji_list.npy', np.array(train_accuracy_per_kanji_list))\n",
    "np.save(log_dir + 'train_accuracy_per_radical_list.npy', np.array(train_accuracy_per_radical_list))\n",
    "\n",
    "np.save(log_dir + 'validation_loss_list.npy', np.array(validation_loss_list))\n",
    "np.save(log_dir + 'validation_accuracy_list.npy', np.array(validation_accuracy_list))\n",
    "np.save(log_dir + 'validation_accuracy_per_kanji_list.npy', np.array(validation_accuracy_per_kanji_list))\n",
    "np.save(log_dir + 'validation_accuracy_per_radical_list.npy', np.array(validation_accuracy_per_radical_list))\n",
    "\n",
    "torch.save(net.state_dict(), log_dir + 'weights_final.pth')"
   ]
  },
  {
   "cell_type": "code",
   "execution_count": 14,
   "metadata": {},
   "outputs": [
    {
     "data": {
      "text/plain": [
       "[<matplotlib.lines.Line2D at 0x7f8c30cd9c88>]"
      ]
     },
     "execution_count": 14,
     "metadata": {},
     "output_type": "execute_result"
    },
    {
     "data": {
      "image/png": "[encoded data removed]",
      "text/plain": [
       "<matplotlib.figure.Figure at 0x7f8c30cd9dd8>"
      ]
     },
     "metadata": {
      "needs_background": "light"
     },
     "output_type": "display_data"
    }
   ],
   "source": [
    "plt.plot(train_loss_list)\n",
    "plt.plot(validation_loss_list)"
   ]
  },
  {
   "cell_type": "code",
   "execution_count": 15,
   "metadata": {},
   "outputs": [
    {
     "data": {
      "text/plain": [
       "[<matplotlib.lines.Line2D at 0x7f8c2aa524e0>]"
      ]
     },
     "execution_count": 15,
     "metadata": {},
     "output_type": "execute_result"
    },
    {
     "data": {
      "image/png": "[encoded data removed]",
      "text/plain": [
       "<matplotlib.figure.Figure at 0x7f8c2aa52278>"
      ]
     },
     "metadata": {
      "needs_background": "light"
     },
     "output_type": "display_data"
    }
   ],
   "source": [
    "plt.plot(train_accuracy_list)\n",
    "plt.plot(validation_accuracy_list)"
   ]
  },
  {
   "cell_type": "code",
   "execution_count": 16,
   "metadata": {},
   "outputs": [
    {
     "data": {
      "text/plain": [
       "[<matplotlib.lines.Line2D at 0x7f8c2a964ef0>]"
      ]
     },
     "execution_count": 16,
     "metadata": {},
     "output_type": "execute_result"
    },
    {
     "data": {
      "image/png": "[encoded data removed]",
      "text/plain": [
       "<matplotlib.figure.Figure at 0x7f8c2a9646a0>"
      ]
     },
     "metadata": {
      "needs_background": "light"
     },
     "output_type": "display_data"
    }
   ],
   "source": [
    "plt.plot(train_accuracy_per_kanji_list)\n",
    "plt.plot(validation_accuracy_per_kanji_list)"
   ]
  },
  {
   "cell_type": "code",
   "execution_count": 17,
   "metadata": {},
   "outputs": [
    {
     "data": {
      "image/png": "[encoded data removed]",
      "text/plain": [
       "<matplotlib.figure.Figure at 0x7f8c2a8ed160>"
      ]
     },
     "metadata": {
      "needs_background": "light"
     },
     "output_type": "display_data"
    }
   ],
   "source": [
    "train_accuracy_per_radical_np_transposed = np.transpose(np.array(train_accuracy_per_radical_list), [1,0])\n",
    "\n",
    "for i, accuracy_per_radical in enumerate(train_accuracy_per_radical_np_transposed):\n",
    "    plt.plot(accuracy_per_radical, label=i)\n",
    "    plt.legend()"
   ]
  },
  {
   "cell_type": "code",
   "execution_count": 18,
   "metadata": {},
   "outputs": [
    {
     "data": {
      "image/png": "[encoded data removed]",
      "text/plain": [
       "<matplotlib.figure.Figure at 0x7f8c2a831fd0>"
      ]
     },
     "metadata": {
      "needs_background": "light"
     },
     "output_type": "display_data"
    }
   ],
   "source": [
    "validation_accuracy_per_radical_np_transposed = np.transpose(np.array(validation_accuracy_per_radical_list), [1,0])\n",
    "\n",
    "for i, accuracy_per_radical in enumerate(validation_accuracy_per_radical_np_transposed):\n",
    "    plt.plot(accuracy_per_radical, label=i)\n",
    "    plt.legend()"
   ]
  },
  {
   "cell_type": "code",
   "execution_count": 19,
   "metadata": {
    "scrolled": true
   },
   "outputs": [
    {
     "data": {
      "text/plain": [
       "23"
      ]
     },
     "execution_count": 19,
     "metadata": {},
     "output_type": "execute_result"
    }
   ],
   "source": [
    "# make_curated_dataset.ipynbの中で作ったテストデータを読む\n",
    "test_image_dir = root_dir + 'kkanji2_curated_for_test/'\n",
    "test_data =  KanjiRadicalDataset(test_image_dir, os.listdir(test_image_dir), \\\n",
    "                                 utf16_to_radical, radical_dict, transform=tf_validation)\n",
    "test_loader = DataLoader(test_data, batch_size=min(len(test_data), batchsize), shuffle=True)\n",
    "\n",
    "# テストデータの数的に数字を出す意味があまりない気が・・・\n",
    "len(test_data)"
   ]
  },
  {
   "cell_type": "code",
   "execution_count": 20,
   "metadata": {},
   "outputs": [],
   "source": [
    "test_image, test_label = iter(test_loader).next()\n",
    "pred = net(test_image.to(device))"
   ]
  },
  {
   "cell_type": "code",
   "execution_count": 21,
   "metadata": {},
   "outputs": [
    {
     "data": {
      "text/plain": [
       "tensor([[1, 1, 1, 1, 1, 1, 0, 1, 1, 1, 1, 1, 1],\n",
       "        [1, 1, 1, 1, 1, 1, 0, 1, 1, 1, 1, 0, 1],\n",
       "        [1, 1, 1, 1, 1, 1, 0, 1, 1, 1, 1, 1, 1],\n",
       "        [1, 1, 1, 1, 1, 0, 0, 1, 1, 1, 1, 1, 1],\n",
       "        [1, 1, 1, 0, 1, 1, 1, 1, 1, 1, 1, 0, 1],\n",
       "        [1, 1, 1, 1, 1, 1, 0, 1, 1, 1, 1, 1, 1],\n",
       "        [1, 1, 1, 1, 1, 1, 0, 1, 0, 1, 1, 0, 1],\n",
       "        [1, 1, 1, 1, 1, 1, 1, 1, 1, 1, 1, 1, 1],\n",
       "        [1, 1, 1, 1, 1, 0, 0, 1, 1, 1, 1, 1, 1],\n",
       "        [1, 1, 1, 0, 1, 1, 1, 1, 1, 1, 1, 0, 1],\n",
       "        [1, 1, 1, 1, 1, 1, 0, 1, 1, 1, 1, 1, 1],\n",
       "        [1, 1, 1, 1, 1, 1, 1, 1, 0, 1, 1, 0, 1],\n",
       "        [1, 1, 1, 1, 1, 1, 1, 1, 1, 1, 1, 0, 1],\n",
       "        [1, 1, 1, 1, 1, 1, 0, 1, 1, 1, 1, 1, 1],\n",
       "        [1, 1, 1, 1, 1, 1, 1, 1, 1, 1, 1, 1, 1],\n",
       "        [1, 1, 1, 0, 1, 0, 1, 1, 1, 1, 1, 1, 1],\n",
       "        [1, 1, 1, 1, 1, 1, 0, 1, 1, 1, 1, 1, 1],\n",
       "        [1, 1, 1, 1, 1, 0, 1, 1, 1, 1, 1, 1, 1],\n",
       "        [1, 1, 1, 1, 1, 1, 0, 1, 1, 1, 1, 1, 1],\n",
       "        [1, 1, 1, 0, 1, 1, 1, 1, 1, 1, 1, 1, 1],\n",
       "        [1, 1, 1, 1, 1, 1, 0, 1, 1, 1, 1, 1, 1],\n",
       "        [1, 1, 1, 1, 1, 1, 0, 1, 1, 1, 1, 1, 1],\n",
       "        [1, 1, 1, 1, 1, 1, 1, 1, 0, 1, 1, 1, 1]], dtype=torch.uint8)"
      ]
     },
     "execution_count": 21,
     "metadata": {},
     "output_type": "execute_result"
    }
   ],
   "source": [
    "pred_label = (torch.sigmoid(pred) > 0.5)\n",
    "is_correct = (pred_label.cpu() == test_label.type(torch.uint8))\n",
    "is_correct"
   ]
  },
  {
   "cell_type": "code",
   "execution_count": 23,
   "metadata": {},
   "outputs": [
    {
     "name": "stdout",
     "output_type": "stream",
     "text": [
      "扌\n",
      "少\n"
     ]
    },
    {
     "data": {
      "image/png": "[encoded data removed]",
      "text/plain": [
       "<matplotlib.figure.Figure at 0x7f8c2a5b7e48>"
      ]
     },
     "metadata": {
      "needs_background": "light"
     },
     "output_type": "display_data"
    }
   ],
   "source": [
    "index = 14\n",
    "plt.imshow(test_image[index].numpy().reshape(64,64), cmap='gray')\n",
    "for i, value in enumerate(pred_label[index]):\n",
    "    if value == 1:\n",
    "        print(radical_list[i])"
   ]
  },
  {
   "cell_type": "code",
   "execution_count": null,
   "metadata": {},
   "outputs": [],
   "source": []
  }
 ],
 "metadata": {
  "kernelspec": {
   "display_name": "Python 3",
   "language": "python",
   "name": "python3"
  },
  "language_info": {
   "codemirror_mode": {
    "name": "ipython",
    "version": 3
   },
   "file_extension": ".py",
   "mimetype": "text/x-python",
   "name": "python",
   "nbconvert_exporter": "python",
   "pygments_lexer": "ipython3",
   "version": "3.5.2"
  }
 },
 "nbformat": 4,
 "nbformat_minor": 2
}
