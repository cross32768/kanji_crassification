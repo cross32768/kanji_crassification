{
 "cells": [
  {
   "cell_type": "code",
   "execution_count": 36,
   "metadata": {},
   "outputs": [
    {
     "name": "stdout",
     "output_type": "stream",
     "text": [
      "PyTorch version: 1.0.0\n",
      "torchvision version: 0.2.1\n",
      "Is GPU available: True\n"
     ]
    }
   ],
   "source": [
    "import numpy as np\n",
    "import matplotlib.pyplot as plt\n",
    "import json\n",
    "import os\n",
    "import time\n",
    "from PIL import Image\n",
    "from sklearn.model_selection import train_test_split\n",
    "\n",
    "import torch\n",
    "from torch import nn, optim\n",
    "from torch.nn import functional as F\n",
    "from torch.utils.data import Dataset, DataLoader\n",
    "\n",
    "import torchvision\n",
    "from torchvision import transforms\n",
    "from torchvision.utils import make_grid\n",
    "\n",
    "print('PyTorch version:', torch.__version__)\n",
    "print('torchvision version:', torchvision.__version__)\n",
    "use_gpu = torch.cuda.is_available()\n",
    "print('Is GPU available:', use_gpu)"
   ]
  },
  {
   "cell_type": "code",
   "execution_count": 37,
   "metadata": {},
   "outputs": [],
   "source": [
    "# 全体的な設定\n",
    "\n",
    "# デバイス\n",
    "device = torch.device('cuda' if use_gpu else 'cpu')\n",
    "\n",
    "# バッチサイズ（もう少し大きくしたいがメモリの都合）\n",
    "batchsize = 64\n",
    "\n",
    "# シード値の指定（cuDNNによるランダム性はこれでも残るらしい）\n",
    "seed = 1\n",
    "torch.manual_seed(seed)\n",
    "if use_gpu:\n",
    "    torch.cuda.manual_seed(seed)"
   ]
  },
  {
   "cell_type": "code",
   "execution_count": 38,
   "metadata": {},
   "outputs": [],
   "source": [
    "root_dir = '../../data/'\n",
    "# 訓練画像が入っているディレクトリ（kmnistの漢字データからkanjivgのkanji2radicalにkeyとしてないものを除いた）\n",
    "image_dir = root_dir + 'kkanji2_expansion_can_get_radical/'\n",
    "# ログと重みを保存するためのディレクトリ\n",
    "save_dir = root_dir + 'kkanji2_result/'\n",
    "if not os.path.exists(save_dir):\n",
    "    os.mkdir(save_dir)"
   ]
  },
  {
   "cell_type": "code",
   "execution_count": 39,
   "metadata": {},
   "outputs": [
    {
     "name": "stdout",
     "output_type": "stream",
     "text": [
      "The number of kanjis: 3566\n"
     ]
    }
   ],
   "source": [
    "kanji_set = set()\n",
    "for image_name in os.listdir(image_dir):\n",
    "    kanji_set.add(image_name[:4])\n",
    "    \n",
    "kanji_list = sorted(list(kanji_set))\n",
    "\n",
    "kanji2index = {}\n",
    "for index, kanji in enumerate(kanji_list):\n",
    "    kanji2index[kanji] = index\n",
    "\n",
    "n_kanji = len(kanji_list)\n",
    "print('The number of kanjis:', n_kanji)"
   ]
  },
  {
   "cell_type": "code",
   "execution_count": 40,
   "metadata": {},
   "outputs": [
    {
     "data": {
      "image/png": "[encoded data removed]",
      "text/plain": [
       "<matplotlib.figure.Figure at 0x7fd9af9a2ac8>"
      ]
     },
     "metadata": {
      "needs_background": "light"
     },
     "output_type": "display_data"
    }
   ],
   "source": [
    "kanji_dist = np.zeros(n_kanji)\n",
    "for image_name in os.listdir(image_dir):\n",
    "    kanji_dist[kanji2index[image_name[:4]]] += 1\n",
    "\n",
    "plt.plot(kanji_dist)\n",
    "plt.show()"
   ]
  },
  {
   "cell_type": "code",
   "execution_count": 43,
   "metadata": {},
   "outputs": [
    {
     "data": {
      "image/png": "[encoded data removed]",
      "text/plain": [
       "<matplotlib.figure.Figure at 0x7fd9af9cf400>"
      ]
     },
     "metadata": {
      "needs_background": "light"
     },
     "output_type": "display_data"
    }
   ],
   "source": [
    "plt.hist(kanji_dist, bins=100)\n",
    "plt.show()"
   ]
  },
  {
   "cell_type": "code",
   "execution_count": 44,
   "metadata": {},
   "outputs": [
    {
     "data": {
      "image/png": "[encoded data removed]",
      "text/plain": [
       "<matplotlib.figure.Figure at 0x7fd9aa1b55c0>"
      ]
     },
     "metadata": {
      "needs_background": "light"
     },
     "output_type": "display_data"
    }
   ],
   "source": [
    "plt.xlim([0,500])\n",
    "plt.ylim([0,100])\n",
    "plt.hist(kanji_dist, bins = 100)\n",
    "plt.show()"
   ]
  },
  {
   "cell_type": "code",
   "execution_count": 45,
   "metadata": {},
   "outputs": [],
   "source": [
    "class KanjiDataset(Dataset):\n",
    "    def __init__(self, image_dir, image_name_list, kanji2index, transform=None):\n",
    "        self.image_dir = image_dir\n",
    "        self.image_name_list = sorted(image_name_list)\n",
    "        \n",
    "        self.kanji2index = kanji2index\n",
    "        \n",
    "        self.transform = transform\n",
    "        \n",
    "    def __len__(self):\n",
    "        return len(self.image_name_list)\n",
    "    \n",
    "    def __getitem__(self, idx):\n",
    "        image_name = self.image_name_list[idx]\n",
    "        image = Image.open(self.image_dir + image_name)\n",
    "        \n",
    "        if self.transform:\n",
    "            image = self.transform(image)\n",
    "            \n",
    "        label = self.kanji2index[image_name[:4]]\n",
    "        \n",
    "        return image, label"
   ]
  },
  {
   "cell_type": "code",
   "execution_count": 46,
   "metadata": {},
   "outputs": [
    {
     "name": "stdout",
     "output_type": "stream",
     "text": [
      "The number of training data: 94127\n",
      "The number of validation data: 23532\n"
     ]
    }
   ],
   "source": [
    "# train_test_splitで分割（高速化のためフォルダ内のファイルの名前を分割している）\n",
    "train_name_list, validation_name_list = train_test_split(os.listdir(image_dir), test_size = 0.2, random_state = seed)\n",
    "\n",
    "# data augmentationとして周囲8マスをゼロパディングしてそこから64x64をランダムクロップしている（data augmentationは今ここだけ）\n",
    "# ToTensor()で0~1の範囲に収めて、そこからNormalize()で-1~1の範囲にしているが、このNormalize()に渡す値は0.5ではよくない気がする\n",
    "tf_train = transforms.Compose([transforms.RandomCrop(64, padding=8), \\\n",
    "                               transforms.ToTensor(), transforms.Normalize((0.5,), (0.5,))])\n",
    "# validationではランダムクロップはしない\n",
    "tf_validation = transforms.Compose([transforms.ToTensor(), transforms.Normalize((0.5,), (0.5,))])\n",
    "\n",
    "train_data = KanjiDataset(image_dir, train_name_list, \\\n",
    "                                 kanji2index, transform=tf_train)\n",
    "validation_data = KanjiDataset(image_dir, validation_name_list, \\\n",
    "                                      kanji2index, transform=tf_validation)\n",
    "\n",
    "print('The number of training data:', len(train_data))\n",
    "print('The number of validation data:', len(validation_data))\n",
    "\n",
    "# make DataLoader\n",
    "train_loader = DataLoader(train_data, batch_size=batchsize, shuffle=True, num_workers=4)\n",
    "validation_loader = DataLoader(validation_data, batch_size=batchsize, shuffle=False, num_workers=4)"
   ]
  },
  {
   "cell_type": "code",
   "execution_count": 59,
   "metadata": {},
   "outputs": [],
   "source": [
    "# 普通のシンプルなCNN\n",
    "class Simple_CNN(nn.Module):\n",
    "    def __init__(self, n_out):\n",
    "        super(Simple_CNN, self).__init__()\n",
    "        base_n_layers = 64\n",
    "        self.layers1 = nn.Sequential(\n",
    "                            nn.Conv2d(1, base_n_layers, kernel_size=3, stride=1, padding=1),\n",
    "                            nn.BatchNorm2d(base_n_layers),\n",
    "                            nn.ReLU(),\n",
    "                            nn.MaxPool2d(kernel_size=2, stride=2)\n",
    "        )\n",
    "        self.layers2 = nn.Sequential(\n",
    "                            nn.Conv2d(base_n_layers, base_n_layers*2, kernel_size=3, stride=1, padding=1),\n",
    "                            nn.BatchNorm2d(base_n_layers*2),\n",
    "                            nn.ReLU(),\n",
    "                            nn.MaxPool2d(kernel_size=2, stride=2)\n",
    "        )\n",
    "        self.layers3 = nn.Sequential(\n",
    "                            nn.Conv2d(base_n_layers*2, base_n_layers*4, kernel_size=3, stride=1, padding=1),\n",
    "                            nn.BatchNorm2d(base_n_layers*4),\n",
    "                            nn.ReLU(),\n",
    "                            nn.MaxPool2d(kernel_size=2, stride=2)\n",
    "        )\n",
    "        self.layers4 = nn.Sequential(\n",
    "                            nn.Conv2d(base_n_layers*4, base_n_layers*8, kernel_size=3, stride=1, padding=1),\n",
    "                            nn.BatchNorm2d(base_n_layers*8),\n",
    "                            nn.ReLU(),\n",
    "                            nn.MaxPool2d(kernel_size=2, stride=2)\n",
    "        )\n",
    "        self.fc = nn.Linear(base_n_layers*8*4*4, n_out)\n",
    "        \n",
    "    def forward(self, x):\n",
    "        out = self.layers1(x)\n",
    "        out = self.layers2(out)\n",
    "        out = self.layers3(out)\n",
    "        out = self.layers4(out)\n",
    "        \n",
    "        out = out.view(out.size(0), -1)\n",
    "        out = self.fc(out)\n",
    "        return out"
   ]
  },
  {
   "cell_type": "code",
   "execution_count": 60,
   "metadata": {},
   "outputs": [
    {
     "name": "stdout",
     "output_type": "stream",
     "text": [
      "The number of trainable parameters: 30767982\n",
      "\n",
      "Model:\n",
      " Simple_CNN(\n",
      "  (layers1): Sequential(\n",
      "    (0): Conv2d(1, 64, kernel_size=(3, 3), stride=(1, 1), padding=(1, 1))\n",
      "    (1): BatchNorm2d(64, eps=1e-05, momentum=0.1, affine=True, track_running_stats=True)\n",
      "    (2): ReLU()\n",
      "    (3): MaxPool2d(kernel_size=2, stride=2, padding=0, dilation=1, ceil_mode=False)\n",
      "  )\n",
      "  (layers2): Sequential(\n",
      "    (0): Conv2d(64, 128, kernel_size=(3, 3), stride=(1, 1), padding=(1, 1))\n",
      "    (1): BatchNorm2d(128, eps=1e-05, momentum=0.1, affine=True, track_running_stats=True)\n",
      "    (2): ReLU()\n",
      "    (3): MaxPool2d(kernel_size=2, stride=2, padding=0, dilation=1, ceil_mode=False)\n",
      "  )\n",
      "  (layers3): Sequential(\n",
      "    (0): Conv2d(128, 256, kernel_size=(3, 3), stride=(1, 1), padding=(1, 1))\n",
      "    (1): BatchNorm2d(256, eps=1e-05, momentum=0.1, affine=True, track_running_stats=True)\n",
      "    (2): ReLU()\n",
      "    (3): MaxPool2d(kernel_size=2, stride=2, padding=0, dilation=1, ceil_mode=False)\n",
      "  )\n",
      "  (layers4): Sequential(\n",
      "    (0): Conv2d(256, 512, kernel_size=(3, 3), stride=(1, 1), padding=(1, 1))\n",
      "    (1): BatchNorm2d(512, eps=1e-05, momentum=0.1, affine=True, track_running_stats=True)\n",
      "    (2): ReLU()\n",
      "    (3): MaxPool2d(kernel_size=2, stride=2, padding=0, dilation=1, ceil_mode=False)\n",
      "  )\n",
      "  (fc): Linear(in_features=8192, out_features=3566, bias=True)\n",
      ")\n",
      "\n",
      "Loss function:\n",
      " CrossEntropyLoss()\n",
      "\n",
      "Optimizer:\n",
      " Adam (\n",
      "Parameter Group 0\n",
      "    amsgrad: False\n",
      "    betas: (0.9, 0.999)\n",
      "    eps: 1e-08\n",
      "    lr: 0.001\n",
      "    weight_decay: 0.0005\n",
      ")\n"
     ]
    }
   ],
   "source": [
    "net = Simple_CNN(n_kanji)\n",
    "net = net.to(device)\n",
    "\n",
    "criterion = nn.CrossEntropyLoss()\n",
    "\n",
    "learning_rate = 0.001\n",
    "\n",
    "optimizer = optim.Adam(net.parameters(), lr=learning_rate, weight_decay=5e-4)\n",
    "\n",
    "num_trainable_params = sum(p.numel() for p in net.parameters() if p.requires_grad)\n",
    "\n",
    "print('The number of trainable parameters:', num_trainable_params)\n",
    "print('\\nModel:\\n', net)\n",
    "print('\\nLoss function:\\n', criterion)\n",
    "print('\\nOptimizer:\\n', optimizer)"
   ]
  },
  {
   "cell_type": "code",
   "execution_count": 61,
   "metadata": {
    "scrolled": true
   },
   "outputs": [],
   "source": [
    "# 1epoch分の訓練\n",
    "def train(train_loader):\n",
    "    net.train()\n",
    "    running_loss = 0\n",
    "    correct = 0\n",
    "    \n",
    "    for batch_index, (inputs, labels) in enumerate(train_loader):\n",
    "        inputs, labels = inputs.to(device), labels.to(device)\n",
    "        \n",
    "        outputs = net(inputs)\n",
    "        loss = criterion(outputs, labels)\n",
    "        \n",
    "        optimizer.zero_grad()\n",
    "        loss.backward()\n",
    "        optimizer.step()\n",
    "        \n",
    "        running_loss += loss.item()\n",
    "        preds = outputs.detach().max(1, keepdim=True)[1]\n",
    "        correct += preds.eq(labels.view_as(preds)).sum().item()\n",
    "        \n",
    "        print('\\rtraining batch[%4d/%4d]' % (batch_index+1, len(train_loader)), end='')\n",
    "        \n",
    "    train_loss = running_loss / len(train_loader)\n",
    "    train_accuracy = correct / len(train_loader.dataset)\n",
    "    \n",
    "    return train_loss, train_accuracy"
   ]
  },
  {
   "cell_type": "code",
   "execution_count": 62,
   "metadata": {},
   "outputs": [],
   "source": [
    "# 1epoch分のvalidation\n",
    "def validation(validation_loader):\n",
    "    net.eval()\n",
    "    running_loss = 0\n",
    "    correct = 0\n",
    "    \n",
    "    with torch.no_grad():\n",
    "        for batch_index, (inputs, labels) in enumerate(validation_loader):\n",
    "            inputs, labels = inputs.to(device), labels.to(device)\n",
    "            \n",
    "            outputs = net(inputs)\n",
    "            loss = criterion(outputs, labels)\n",
    "            \n",
    "            running_loss += loss.item()\n",
    "            preds = outputs.max(1, keepdim=True)[1]\n",
    "            correct += preds.eq(labels.view_as(preds)).sum().item()\n",
    "            \n",
    "            print('\\rvalidation batch[%4d/%4d]' % (batch_index+1, len(validation_loader)), end='')\n",
    "            \n",
    "    validation_loss = running_loss / len(validation_loader)\n",
    "    validation_accuracy = correct / len(validation_loader.dataset)\n",
    "    \n",
    "    return validation_loss, validation_accuracy"
   ]
  },
  {
   "cell_type": "code",
   "execution_count": 63,
   "metadata": {},
   "outputs": [
    {
     "name": "stdout",
     "output_type": "stream",
     "text": [
      "validation batch[ 368/ 368]\n",
      "epoch[  1/ 50] train[loss:3.45949 accuracy:0.44929] \n",
      "          validation[loss:1.46635 accuracy:0.73466]\n",
      "validation batch[ 368/ 368]\n",
      "epoch[  2/ 50] train[loss:1.39887 accuracy:0.72989] \n",
      "          validation[loss:1.04375 accuracy:0.80371]\n",
      "validation batch[ 368/ 368]\n",
      "epoch[  3/ 50] train[loss:1.01771 accuracy:0.79001] \n",
      "          validation[loss:0.91806 accuracy:0.82509]\n",
      "validation batch[ 368/ 368]\n",
      "epoch[  4/ 50] train[loss:0.83695 accuracy:0.82092] \n",
      "          validation[loss:0.83314 accuracy:0.84162]\n",
      "validation batch[ 368/ 368]\n",
      "epoch[  5/ 50] train[loss:0.73483 accuracy:0.83756] \n",
      "          validation[loss:0.80343 accuracy:0.84442]\n",
      "validation batch[ 368/ 368]\n",
      "epoch[  6/ 50] train[loss:0.65669 accuracy:0.84927] \n",
      "          validation[loss:0.77443 accuracy:0.84884]\n",
      "validation batch[ 368/ 368]\n",
      "epoch[  7/ 50] train[loss:0.29691 accuracy:0.93212] \n",
      "          validation[loss:0.57102 accuracy:0.89533]\n",
      "validation batch[ 368/ 368]\n",
      "epoch[  8/ 50] train[loss:0.22154 accuracy:0.95055] \n",
      "          validation[loss:0.55791 accuracy:0.89678]\n",
      "validation batch[ 368/ 368]\n",
      "epoch[  9/ 50] train[loss:0.19385 accuracy:0.95819] \n",
      "          validation[loss:0.54355 accuracy:0.89920]\n",
      "validation batch[ 368/ 368]\n",
      "epoch[ 10/ 50] train[loss:0.17525 accuracy:0.96443] \n",
      "          validation[loss:0.53795 accuracy:0.89801]\n",
      "validation batch[ 368/ 368]\n",
      "epoch[ 11/ 50] train[loss:0.16302 accuracy:0.96653] \n",
      "          validation[loss:0.53402 accuracy:0.89937]\n",
      "validation batch[ 368/ 368]\n",
      "epoch[ 12/ 50] train[loss:0.12812 accuracy:0.97640] \n",
      "          validation[loss:0.51598 accuracy:0.90307]\n",
      "validation batch[ 368/ 368]\n",
      "epoch[ 13/ 50] train[loss:0.12033 accuracy:0.97822] \n",
      "          validation[loss:0.51567 accuracy:0.90315]\n",
      "validation batch[ 368/ 368]\n",
      "epoch[ 14/ 50] train[loss:0.11920 accuracy:0.97887] \n",
      "          validation[loss:0.51568 accuracy:0.90311]\n",
      "validation batch[ 368/ 368]\n",
      "epoch[ 15/ 50] train[loss:0.11721 accuracy:0.97951] \n",
      "          validation[loss:0.51570 accuracy:0.90311]\n",
      "validation batch[ 368/ 368]\n",
      "epoch[ 16/ 50] train[loss:0.11777 accuracy:0.97932] \n",
      "          validation[loss:0.51660 accuracy:0.90286]\n",
      "validation batch[ 368/ 368]\n",
      "epoch[ 17/ 50] train[loss:0.11188 accuracy:0.98081] \n",
      "          validation[loss:0.51668 accuracy:0.90311]\n",
      "validation batch[ 368/ 368]\n",
      "epoch[ 18/ 50] train[loss:0.11256 accuracy:0.98072] \n",
      "          validation[loss:0.51734 accuracy:0.90260]\n",
      "validation batch[ 368/ 368]\n",
      "epoch[ 19/ 50] train[loss:0.11114 accuracy:0.98117] \n",
      "          validation[loss:0.51583 accuracy:0.90320]\n",
      "validation batch[ 368/ 368]\n",
      "epoch[ 20/ 50] train[loss:0.11258 accuracy:0.98040] \n",
      "          validation[loss:0.51551 accuracy:0.90320]\n",
      "validation batch[ 368/ 368]\n",
      "epoch[ 21/ 50] train[loss:0.11199 accuracy:0.98082] \n",
      "          validation[loss:0.51614 accuracy:0.90290]\n",
      "validation batch[ 368/ 368]\n",
      "epoch[ 22/ 50] train[loss:0.11311 accuracy:0.98117] \n",
      "          validation[loss:0.51685 accuracy:0.90273]\n",
      "validation batch[ 368/ 368]\n",
      "epoch[ 23/ 50] train[loss:0.11172 accuracy:0.98045] \n",
      "          validation[loss:0.51609 accuracy:0.90332]\n",
      "validation batch[ 368/ 368]\n",
      "epoch[ 24/ 50] train[loss:0.11045 accuracy:0.98168] \n",
      "          validation[loss:0.51674 accuracy:0.90273]\n",
      "validation batch[ 368/ 368]\n",
      "epoch[ 25/ 50] train[loss:0.11109 accuracy:0.98075] \n",
      "          validation[loss:0.51746 accuracy:0.90277]\n",
      "validation batch[ 368/ 368]\n",
      "epoch[ 26/ 50] train[loss:0.11201 accuracy:0.98051] \n",
      "          validation[loss:0.51663 accuracy:0.90311]\n",
      "validation batch[ 368/ 368]\n",
      "epoch[ 27/ 50] train[loss:0.11072 accuracy:0.98115] \n",
      "          validation[loss:0.51509 accuracy:0.90371]\n",
      "validation batch[ 368/ 368]\n",
      "epoch[ 28/ 50] train[loss:0.11214 accuracy:0.98090] \n",
      "          validation[loss:0.51579 accuracy:0.90388]\n",
      "validation batch[ 368/ 368]\n",
      "epoch[ 29/ 50] train[loss:0.11192 accuracy:0.98091] \n",
      "          validation[loss:0.51623 accuracy:0.90320]\n",
      "validation batch[ 368/ 368]\n",
      "epoch[ 30/ 50] train[loss:0.11054 accuracy:0.98142] \n",
      "          validation[loss:0.51738 accuracy:0.90281]\n",
      "validation batch[ 368/ 368]\n",
      "epoch[ 31/ 50] train[loss:0.11246 accuracy:0.98043] \n",
      "          validation[loss:0.51772 accuracy:0.90260]\n",
      "validation batch[ 368/ 368]\n",
      "epoch[ 32/ 50] train[loss:0.11132 accuracy:0.98106] \n",
      "          validation[loss:0.51618 accuracy:0.90303]\n",
      "validation batch[ 368/ 368]\n",
      "epoch[ 33/ 50] train[loss:0.11052 accuracy:0.98152] \n",
      "          validation[loss:0.51660 accuracy:0.90311]\n",
      "validation batch[ 368/ 368]\n",
      "epoch[ 34/ 50] train[loss:0.11220 accuracy:0.98047] \n",
      "          validation[loss:0.51712 accuracy:0.90303]\n",
      "validation batch[ 368/ 368]\n",
      "epoch[ 35/ 50] train[loss:0.11173 accuracy:0.98087] \n",
      "          validation[loss:0.51712 accuracy:0.90256]\n",
      "validation batch[ 368/ 368]\n",
      "epoch[ 36/ 50] train[loss:0.11208 accuracy:0.98130] \n",
      "          validation[loss:0.51587 accuracy:0.90315]\n",
      "validation batch[ 368/ 368]\n",
      "epoch[ 37/ 50] train[loss:0.11165 accuracy:0.98073] \n",
      "          validation[loss:0.51514 accuracy:0.90332]\n",
      "validation batch[ 368/ 368]\n",
      "epoch[ 38/ 50] train[loss:0.11089 accuracy:0.98169] \n",
      "          validation[loss:0.51688 accuracy:0.90260]\n",
      "validation batch[ 368/ 368]\n",
      "epoch[ 39/ 50] train[loss:0.11060 accuracy:0.98118] \n",
      "          validation[loss:0.51688 accuracy:0.90256]\n",
      "validation batch[ 368/ 368]\n",
      "epoch[ 40/ 50] train[loss:0.11138 accuracy:0.98122] \n",
      "          validation[loss:0.51555 accuracy:0.90315]\n",
      "validation batch[ 368/ 368]\n",
      "epoch[ 41/ 50] train[loss:0.11081 accuracy:0.98142] \n",
      "          validation[loss:0.51651 accuracy:0.90290]\n",
      "validation batch[ 368/ 368]\n",
      "epoch[ 42/ 50] train[loss:0.11130 accuracy:0.98120] \n",
      "          validation[loss:0.51611 accuracy:0.90324]\n",
      "validation batch[ 368/ 368]\n",
      "epoch[ 43/ 50] train[loss:0.11171 accuracy:0.98083] \n",
      "          validation[loss:0.51641 accuracy:0.90281]\n",
      "validation batch[ 368/ 368]\n",
      "epoch[ 44/ 50] train[loss:0.11223 accuracy:0.98079] \n",
      "          validation[loss:0.51622 accuracy:0.90320]\n",
      "validation batch[ 368/ 368]\n",
      "epoch[ 45/ 50] train[loss:0.11141 accuracy:0.98043] \n",
      "          validation[loss:0.51795 accuracy:0.90269]\n",
      "validation batch[ 368/ 368]\n",
      "epoch[ 46/ 50] train[loss:0.11300 accuracy:0.98081] \n",
      "          validation[loss:0.51603 accuracy:0.90273]\n",
      "validation batch[ 368/ 368]\n",
      "epoch[ 47/ 50] train[loss:0.11125 accuracy:0.98156] \n",
      "          validation[loss:0.51581 accuracy:0.90341]\n",
      "validation batch[ 368/ 368]\n",
      "epoch[ 48/ 50] train[loss:0.11172 accuracy:0.98097] \n",
      "          validation[loss:0.51681 accuracy:0.90269]\n",
      "validation batch[ 368/ 368]\n",
      "epoch[ 49/ 50] train[loss:0.11143 accuracy:0.98064] \n",
      "          validation[loss:0.51603 accuracy:0.90303]\n",
      "validation batch[ 368/ 368]\n",
      "epoch[ 50/ 50] train[loss:0.11093 accuracy:0.98094] \n",
      "          validation[loss:0.51652 accuracy:0.90298]\n"
     ]
    }
   ],
   "source": [
    "train_loss_list = []\n",
    "train_accuracy_list = []\n",
    "\n",
    "validation_loss_list = []\n",
    "validation_accuracy_list = []\n",
    "\n",
    "n_epochs = 50\n",
    "\n",
    "for epoch in range(n_epochs):\n",
    "    train_loss, train_accuracy = train(train_loader)\n",
    "    validation_loss, validation_accuracy = validation(validation_loader)\n",
    "    \n",
    "    train_loss_list.append(train_loss)\n",
    "    train_accuracy_list.append(train_accuracy)\n",
    "    \n",
    "    validation_loss_list.append(validation_loss)\n",
    "    validation_accuracy_list.append(validation_accuracy)\n",
    "    \n",
    "    print('')\n",
    "    print('epoch[%3d/%3d] train[loss:%1.5f accuracy:%1.5f]' \\\n",
    "          % (epoch+1, n_epochs, train_loss, train_accuracy), \\\n",
    "          '\\n          validation[loss:%1.5f accuracy:%1.5f]'\n",
    "          % (validation_loss, validation_accuracy))\n",
    "    \n",
    "    if epoch % 5 == 0 and epoch > 0:\n",
    "        torch.save(net.state_dict(), save_dir + 'kanji_baseline_simpleCNN_weights_epoch_%d.pth' % (epoch+1))\n",
    "        torch.save(optimizer.state_dict(), save_dir + 'kanji_baseline_simpleCNN_optimizer_epoch_%d.pth' % (epoch+1))\n",
    "        optimizer.param_groups[0]['lr'] *= 0.1\n",
    "    \n",
    "np.save(save_dir + 'kanji_baseline_simpleCNN_train_loss_list.npy', np.array(train_loss_list))\n",
    "np.save(save_dir + 'kanji_baseline_simpleCNN_train_accuracy.npy', np.array(train_accuracy_list))\n",
    "\n",
    "np.save(save_dir + 'kanji_baseline_simpleCNN_validation_loss_list.npy', np.array(validation_loss_list))\n",
    "np.save(save_dir + 'kanji_baseline_simpleCNN_validation_accuracy.npy', np.array(validation_accuracy_list))\n",
    "\n",
    "torch.save(net.state_dict(), save_dir + 'kanji_baseline_simpleCNN_weights_final.pth')"
   ]
  },
  {
   "cell_type": "code",
   "execution_count": 33,
   "metadata": {},
   "outputs": [
    {
     "data": {
      "text/plain": [
       "[<matplotlib.lines.Line2D at 0x7fd9a6acbbe0>]"
      ]
     },
     "execution_count": 33,
     "metadata": {},
     "output_type": "execute_result"
    },
    {
     "data": {
      "image/png": "[encoded data removed]",
      "text/plain": [
       "<matplotlib.figure.Figure at 0x7fd9a6acbef0>"
      ]
     },
     "metadata": {
      "needs_background": "light"
     },
     "output_type": "display_data"
    }
   ],
   "source": [
    "plt.plot(train_loss_list)\n",
    "plt.plot(validation_loss_list)"
   ]
  },
  {
   "cell_type": "code",
   "execution_count": 35,
   "metadata": {},
   "outputs": [
    {
     "data": {
      "text/plain": [
       "[<matplotlib.lines.Line2D at 0x7fd9a6acd358>]"
      ]
     },
     "execution_count": 35,
     "metadata": {},
     "output_type": "execute_result"
    },
    {
     "data": {
      "image/png": "[encoded data removed]",
      "text/plain": [
       "<matplotlib.figure.Figure at 0x7fd9a6acd208>"
      ]
     },
     "metadata": {
      "needs_background": "light"
     },
     "output_type": "display_data"
    }
   ],
   "source": [
    "plt.plot(train_accuracy_list)\n",
    "plt.plot(validation_accuracy_list)"
   ]
  },
  {
   "cell_type": "code",
   "execution_count": 68,
   "metadata": {},
   "outputs": [
    {
     "name": "stdout",
     "output_type": "stream",
     "text": [
      "亻\n",
      "尹\n"
     ]
    },
    {
     "data": {
      "image/png": "[encoded data removed]",
      "text/plain": [
       "<matplotlib.figure.Figure at 0x7ffab3de93c8>"
      ]
     },
     "metadata": {
      "needs_background": "light"
     },
     "output_type": "display_data"
    }
   ],
   "source": [
    "test_loader = DataLoader(validation_data, batch_size=batchsize, shuffle=True, num_workers=4)\n",
    "images, labels =  iter(test_loader).next()\n",
    "\n",
    "plt.imshow(images[0].view(64,64).numpy() * 0.5 + 0.5, cmap='gray')\n",
    "for index, label in enumerate(labels[0]):\n",
    "    if label == 1:\n",
    "        print(radical_list[index])"
   ]
  },
  {
   "cell_type": "code",
   "execution_count": 72,
   "metadata": {},
   "outputs": [
    {
     "name": "stdout",
     "output_type": "stream",
     "text": [
      "ERROR! Session/line number was not unique in database. History logging moved to new session 236\n"
     ]
    },
    {
     "ename": "RuntimeError",
     "evalue": "$ Torch: not enough memory: you tried to allocate 0GB. Buy new RAM! at /pytorch/aten/src/TH/THGeneral.cpp:201",
     "output_type": "error",
     "traceback": [
      "\u001b[0;31m---------------------------------------------------------------------------\u001b[0m",
      "\u001b[0;31mRuntimeError\u001b[0m                              Traceback (most recent call last)",
      "\u001b[0;32m<ipython-input-72-f3da2240b196>\u001b[0m in \u001b[0;36m<module>\u001b[0;34m()\u001b[0m\n\u001b[0;32m----> 1\u001b[0;31m \u001b[0moutputs\u001b[0m \u001b[0;34m=\u001b[0m \u001b[0mnet\u001b[0m\u001b[0;34m(\u001b[0m\u001b[0mimages\u001b[0m\u001b[0;34m)\u001b[0m\u001b[0;34m.\u001b[0m\u001b[0mcpu\u001b[0m\u001b[0;34m(\u001b[0m\u001b[0;34m)\u001b[0m\u001b[0;34m\u001b[0m\u001b[0m\n\u001b[0m\u001b[1;32m      2\u001b[0m \u001b[0;32mfor\u001b[0m \u001b[0mindex\u001b[0m\u001b[0;34m,\u001b[0m \u001b[0moutput\u001b[0m \u001b[0;32min\u001b[0m \u001b[0menumerate\u001b[0m\u001b[0;34m(\u001b[0m\u001b[0moutputs\u001b[0m\u001b[0;34m[\u001b[0m\u001b[0;36m0\u001b[0m\u001b[0;34m]\u001b[0m\u001b[0;34m)\u001b[0m\u001b[0;34m:\u001b[0m\u001b[0;34m\u001b[0m\u001b[0m\n\u001b[1;32m      3\u001b[0m     \u001b[0;32mif\u001b[0m \u001b[0moutput\u001b[0m \u001b[0;34m==\u001b[0m \u001b[0;36m1\u001b[0m\u001b[0;34m:\u001b[0m\u001b[0;34m\u001b[0m\u001b[0m\n\u001b[1;32m      4\u001b[0m         \u001b[0mprint\u001b[0m\u001b[0;34m(\u001b[0m\u001b[0mradical_list\u001b[0m\u001b[0;34m[\u001b[0m\u001b[0mindex\u001b[0m\u001b[0;34m]\u001b[0m\u001b[0;34m)\u001b[0m\u001b[0;34m\u001b[0m\u001b[0m\n",
      "\u001b[0;32m~/.local/lib/python3.5/site-packages/torch/nn/modules/module.py\u001b[0m in \u001b[0;36m__call__\u001b[0;34m(self, *input, **kwargs)\u001b[0m\n\u001b[1;32m    487\u001b[0m             \u001b[0mresult\u001b[0m \u001b[0;34m=\u001b[0m \u001b[0mself\u001b[0m\u001b[0;34m.\u001b[0m\u001b[0m_slow_forward\u001b[0m\u001b[0;34m(\u001b[0m\u001b[0;34m*\u001b[0m\u001b[0minput\u001b[0m\u001b[0;34m,\u001b[0m \u001b[0;34m**\u001b[0m\u001b[0mkwargs\u001b[0m\u001b[0;34m)\u001b[0m\u001b[0;34m\u001b[0m\u001b[0m\n\u001b[1;32m    488\u001b[0m         \u001b[0;32melse\u001b[0m\u001b[0;34m:\u001b[0m\u001b[0;34m\u001b[0m\u001b[0m\n\u001b[0;32m--> 489\u001b[0;31m             \u001b[0mresult\u001b[0m \u001b[0;34m=\u001b[0m \u001b[0mself\u001b[0m\u001b[0;34m.\u001b[0m\u001b[0mforward\u001b[0m\u001b[0;34m(\u001b[0m\u001b[0;34m*\u001b[0m\u001b[0minput\u001b[0m\u001b[0;34m,\u001b[0m \u001b[0;34m**\u001b[0m\u001b[0mkwargs\u001b[0m\u001b[0;34m)\u001b[0m\u001b[0;34m\u001b[0m\u001b[0m\n\u001b[0m\u001b[1;32m    490\u001b[0m         \u001b[0;32mfor\u001b[0m \u001b[0mhook\u001b[0m \u001b[0;32min\u001b[0m \u001b[0mself\u001b[0m\u001b[0;34m.\u001b[0m\u001b[0m_forward_hooks\u001b[0m\u001b[0;34m.\u001b[0m\u001b[0mvalues\u001b[0m\u001b[0;34m(\u001b[0m\u001b[0;34m)\u001b[0m\u001b[0;34m:\u001b[0m\u001b[0;34m\u001b[0m\u001b[0m\n\u001b[1;32m    491\u001b[0m             \u001b[0mhook_result\u001b[0m \u001b[0;34m=\u001b[0m \u001b[0mhook\u001b[0m\u001b[0;34m(\u001b[0m\u001b[0mself\u001b[0m\u001b[0;34m,\u001b[0m \u001b[0minput\u001b[0m\u001b[0;34m,\u001b[0m \u001b[0mresult\u001b[0m\u001b[0;34m)\u001b[0m\u001b[0;34m\u001b[0m\u001b[0m\n",
      "\u001b[0;32m<ipython-input-29-30c2d67deebc>\u001b[0m in \u001b[0;36mforward\u001b[0;34m(self, x)\u001b[0m\n\u001b[1;32m     54\u001b[0m     \u001b[0;32mdef\u001b[0m \u001b[0mforward\u001b[0m\u001b[0;34m(\u001b[0m\u001b[0mself\u001b[0m\u001b[0;34m,\u001b[0m \u001b[0mx\u001b[0m\u001b[0;34m)\u001b[0m\u001b[0;34m:\u001b[0m\u001b[0;34m\u001b[0m\u001b[0m\n\u001b[1;32m     55\u001b[0m         \u001b[0mout\u001b[0m \u001b[0;34m=\u001b[0m \u001b[0mself\u001b[0m\u001b[0;34m.\u001b[0m\u001b[0mconv1\u001b[0m\u001b[0;34m(\u001b[0m\u001b[0mx\u001b[0m\u001b[0;34m)\u001b[0m\u001b[0;34m\u001b[0m\u001b[0m\n\u001b[0;32m---> 56\u001b[0;31m         \u001b[0mout\u001b[0m \u001b[0;34m=\u001b[0m \u001b[0mself\u001b[0m\u001b[0;34m.\u001b[0m\u001b[0mlayer1\u001b[0m\u001b[0;34m(\u001b[0m\u001b[0mout\u001b[0m\u001b[0;34m)\u001b[0m\u001b[0;34m\u001b[0m\u001b[0m\n\u001b[0m\u001b[1;32m     57\u001b[0m         \u001b[0mout\u001b[0m \u001b[0;34m=\u001b[0m \u001b[0mself\u001b[0m\u001b[0;34m.\u001b[0m\u001b[0mlayer2\u001b[0m\u001b[0;34m(\u001b[0m\u001b[0mout\u001b[0m\u001b[0;34m)\u001b[0m\u001b[0;34m\u001b[0m\u001b[0m\n\u001b[1;32m     58\u001b[0m         \u001b[0mout\u001b[0m \u001b[0;34m=\u001b[0m \u001b[0mself\u001b[0m\u001b[0;34m.\u001b[0m\u001b[0mlayer3\u001b[0m\u001b[0;34m(\u001b[0m\u001b[0mout\u001b[0m\u001b[0;34m)\u001b[0m\u001b[0;34m\u001b[0m\u001b[0m\n",
      "\u001b[0;32m~/.local/lib/python3.5/site-packages/torch/nn/modules/module.py\u001b[0m in \u001b[0;36m__call__\u001b[0;34m(self, *input, **kwargs)\u001b[0m\n\u001b[1;32m    487\u001b[0m             \u001b[0mresult\u001b[0m \u001b[0;34m=\u001b[0m \u001b[0mself\u001b[0m\u001b[0;34m.\u001b[0m\u001b[0m_slow_forward\u001b[0m\u001b[0;34m(\u001b[0m\u001b[0;34m*\u001b[0m\u001b[0minput\u001b[0m\u001b[0;34m,\u001b[0m \u001b[0;34m**\u001b[0m\u001b[0mkwargs\u001b[0m\u001b[0;34m)\u001b[0m\u001b[0;34m\u001b[0m\u001b[0m\n\u001b[1;32m    488\u001b[0m         \u001b[0;32melse\u001b[0m\u001b[0;34m:\u001b[0m\u001b[0;34m\u001b[0m\u001b[0m\n\u001b[0;32m--> 489\u001b[0;31m             \u001b[0mresult\u001b[0m \u001b[0;34m=\u001b[0m \u001b[0mself\u001b[0m\u001b[0;34m.\u001b[0m\u001b[0mforward\u001b[0m\u001b[0;34m(\u001b[0m\u001b[0;34m*\u001b[0m\u001b[0minput\u001b[0m\u001b[0;34m,\u001b[0m \u001b[0;34m**\u001b[0m\u001b[0mkwargs\u001b[0m\u001b[0;34m)\u001b[0m\u001b[0;34m\u001b[0m\u001b[0m\n\u001b[0m\u001b[1;32m    490\u001b[0m         \u001b[0;32mfor\u001b[0m \u001b[0mhook\u001b[0m \u001b[0;32min\u001b[0m \u001b[0mself\u001b[0m\u001b[0;34m.\u001b[0m\u001b[0m_forward_hooks\u001b[0m\u001b[0;34m.\u001b[0m\u001b[0mvalues\u001b[0m\u001b[0;34m(\u001b[0m\u001b[0;34m)\u001b[0m\u001b[0;34m:\u001b[0m\u001b[0;34m\u001b[0m\u001b[0m\n\u001b[1;32m    491\u001b[0m             \u001b[0mhook_result\u001b[0m \u001b[0;34m=\u001b[0m \u001b[0mhook\u001b[0m\u001b[0;34m(\u001b[0m\u001b[0mself\u001b[0m\u001b[0;34m,\u001b[0m \u001b[0minput\u001b[0m\u001b[0;34m,\u001b[0m \u001b[0mresult\u001b[0m\u001b[0;34m)\u001b[0m\u001b[0;34m\u001b[0m\u001b[0m\n",
      "\u001b[0;32m~/.local/lib/python3.5/site-packages/torch/nn/modules/container.py\u001b[0m in \u001b[0;36mforward\u001b[0;34m(self, input)\u001b[0m\n\u001b[1;32m     90\u001b[0m     \u001b[0;32mdef\u001b[0m \u001b[0mforward\u001b[0m\u001b[0;34m(\u001b[0m\u001b[0mself\u001b[0m\u001b[0;34m,\u001b[0m \u001b[0minput\u001b[0m\u001b[0;34m)\u001b[0m\u001b[0;34m:\u001b[0m\u001b[0;34m\u001b[0m\u001b[0m\n\u001b[1;32m     91\u001b[0m         \u001b[0;32mfor\u001b[0m \u001b[0mmodule\u001b[0m \u001b[0;32min\u001b[0m \u001b[0mself\u001b[0m\u001b[0;34m.\u001b[0m\u001b[0m_modules\u001b[0m\u001b[0;34m.\u001b[0m\u001b[0mvalues\u001b[0m\u001b[0;34m(\u001b[0m\u001b[0;34m)\u001b[0m\u001b[0;34m:\u001b[0m\u001b[0;34m\u001b[0m\u001b[0m\n\u001b[0;32m---> 92\u001b[0;31m             \u001b[0minput\u001b[0m \u001b[0;34m=\u001b[0m \u001b[0mmodule\u001b[0m\u001b[0;34m(\u001b[0m\u001b[0minput\u001b[0m\u001b[0;34m)\u001b[0m\u001b[0;34m\u001b[0m\u001b[0m\n\u001b[0m\u001b[1;32m     93\u001b[0m         \u001b[0;32mreturn\u001b[0m \u001b[0minput\u001b[0m\u001b[0;34m\u001b[0m\u001b[0m\n\u001b[1;32m     94\u001b[0m \u001b[0;34m\u001b[0m\u001b[0m\n",
      "\u001b[0;32m~/.local/lib/python3.5/site-packages/torch/nn/modules/module.py\u001b[0m in \u001b[0;36m__call__\u001b[0;34m(self, *input, **kwargs)\u001b[0m\n\u001b[1;32m    487\u001b[0m             \u001b[0mresult\u001b[0m \u001b[0;34m=\u001b[0m \u001b[0mself\u001b[0m\u001b[0;34m.\u001b[0m\u001b[0m_slow_forward\u001b[0m\u001b[0;34m(\u001b[0m\u001b[0;34m*\u001b[0m\u001b[0minput\u001b[0m\u001b[0;34m,\u001b[0m \u001b[0;34m**\u001b[0m\u001b[0mkwargs\u001b[0m\u001b[0;34m)\u001b[0m\u001b[0;34m\u001b[0m\u001b[0m\n\u001b[1;32m    488\u001b[0m         \u001b[0;32melse\u001b[0m\u001b[0;34m:\u001b[0m\u001b[0;34m\u001b[0m\u001b[0m\n\u001b[0;32m--> 489\u001b[0;31m             \u001b[0mresult\u001b[0m \u001b[0;34m=\u001b[0m \u001b[0mself\u001b[0m\u001b[0;34m.\u001b[0m\u001b[0mforward\u001b[0m\u001b[0;34m(\u001b[0m\u001b[0;34m*\u001b[0m\u001b[0minput\u001b[0m\u001b[0;34m,\u001b[0m \u001b[0;34m**\u001b[0m\u001b[0mkwargs\u001b[0m\u001b[0;34m)\u001b[0m\u001b[0;34m\u001b[0m\u001b[0m\n\u001b[0m\u001b[1;32m    490\u001b[0m         \u001b[0;32mfor\u001b[0m \u001b[0mhook\u001b[0m \u001b[0;32min\u001b[0m \u001b[0mself\u001b[0m\u001b[0;34m.\u001b[0m\u001b[0m_forward_hooks\u001b[0m\u001b[0;34m.\u001b[0m\u001b[0mvalues\u001b[0m\u001b[0;34m(\u001b[0m\u001b[0;34m)\u001b[0m\u001b[0;34m:\u001b[0m\u001b[0;34m\u001b[0m\u001b[0m\n\u001b[1;32m    491\u001b[0m             \u001b[0mhook_result\u001b[0m \u001b[0;34m=\u001b[0m \u001b[0mhook\u001b[0m\u001b[0;34m(\u001b[0m\u001b[0mself\u001b[0m\u001b[0;34m,\u001b[0m \u001b[0minput\u001b[0m\u001b[0;34m,\u001b[0m \u001b[0mresult\u001b[0m\u001b[0;34m)\u001b[0m\u001b[0;34m\u001b[0m\u001b[0m\n",
      "\u001b[0;32m<ipython-input-29-30c2d67deebc>\u001b[0m in \u001b[0;36mforward\u001b[0;34m(self, x)\u001b[0m\n\u001b[1;32m     25\u001b[0m         \u001b[0mout\u001b[0m \u001b[0;34m=\u001b[0m \u001b[0mF\u001b[0m\u001b[0;34m.\u001b[0m\u001b[0mrelu\u001b[0m\u001b[0;34m(\u001b[0m\u001b[0mself\u001b[0m\u001b[0;34m.\u001b[0m\u001b[0mbn1\u001b[0m\u001b[0;34m(\u001b[0m\u001b[0mx\u001b[0m\u001b[0;34m)\u001b[0m\u001b[0;34m)\u001b[0m\u001b[0;34m\u001b[0m\u001b[0m\n\u001b[1;32m     26\u001b[0m         \u001b[0mshortcut\u001b[0m \u001b[0;34m=\u001b[0m \u001b[0mself\u001b[0m\u001b[0;34m.\u001b[0m\u001b[0mshortcut\u001b[0m\u001b[0;34m(\u001b[0m\u001b[0mout\u001b[0m\u001b[0;34m)\u001b[0m \u001b[0;32mif\u001b[0m \u001b[0mhasattr\u001b[0m\u001b[0;34m(\u001b[0m\u001b[0mself\u001b[0m\u001b[0;34m,\u001b[0m \u001b[0;34m'shortcut'\u001b[0m\u001b[0;34m)\u001b[0m \u001b[0;32melse\u001b[0m \u001b[0mx\u001b[0m\u001b[0;34m\u001b[0m\u001b[0m\n\u001b[0;32m---> 27\u001b[0;31m         \u001b[0mout\u001b[0m \u001b[0;34m=\u001b[0m \u001b[0mself\u001b[0m\u001b[0;34m.\u001b[0m\u001b[0mconv1\u001b[0m\u001b[0;34m(\u001b[0m\u001b[0mout\u001b[0m\u001b[0;34m)\u001b[0m\u001b[0;34m\u001b[0m\u001b[0m\n\u001b[0m\u001b[1;32m     28\u001b[0m         \u001b[0mout\u001b[0m \u001b[0;34m=\u001b[0m \u001b[0mself\u001b[0m\u001b[0;34m.\u001b[0m\u001b[0mconv2\u001b[0m\u001b[0;34m(\u001b[0m\u001b[0mF\u001b[0m\u001b[0;34m.\u001b[0m\u001b[0mrelu\u001b[0m\u001b[0;34m(\u001b[0m\u001b[0mself\u001b[0m\u001b[0;34m.\u001b[0m\u001b[0mbn2\u001b[0m\u001b[0;34m(\u001b[0m\u001b[0mout\u001b[0m\u001b[0;34m)\u001b[0m\u001b[0;34m)\u001b[0m\u001b[0;34m)\u001b[0m\u001b[0;34m\u001b[0m\u001b[0m\n\u001b[1;32m     29\u001b[0m         \u001b[0mout\u001b[0m \u001b[0;34m+=\u001b[0m \u001b[0mshortcut\u001b[0m\u001b[0;34m\u001b[0m\u001b[0m\n",
      "\u001b[0;32m~/.local/lib/python3.5/site-packages/torch/nn/modules/module.py\u001b[0m in \u001b[0;36m__call__\u001b[0;34m(self, *input, **kwargs)\u001b[0m\n\u001b[1;32m    487\u001b[0m             \u001b[0mresult\u001b[0m \u001b[0;34m=\u001b[0m \u001b[0mself\u001b[0m\u001b[0;34m.\u001b[0m\u001b[0m_slow_forward\u001b[0m\u001b[0;34m(\u001b[0m\u001b[0;34m*\u001b[0m\u001b[0minput\u001b[0m\u001b[0;34m,\u001b[0m \u001b[0;34m**\u001b[0m\u001b[0mkwargs\u001b[0m\u001b[0;34m)\u001b[0m\u001b[0;34m\u001b[0m\u001b[0m\n\u001b[1;32m    488\u001b[0m         \u001b[0;32melse\u001b[0m\u001b[0;34m:\u001b[0m\u001b[0;34m\u001b[0m\u001b[0m\n\u001b[0;32m--> 489\u001b[0;31m             \u001b[0mresult\u001b[0m \u001b[0;34m=\u001b[0m \u001b[0mself\u001b[0m\u001b[0;34m.\u001b[0m\u001b[0mforward\u001b[0m\u001b[0;34m(\u001b[0m\u001b[0;34m*\u001b[0m\u001b[0minput\u001b[0m\u001b[0;34m,\u001b[0m \u001b[0;34m**\u001b[0m\u001b[0mkwargs\u001b[0m\u001b[0;34m)\u001b[0m\u001b[0;34m\u001b[0m\u001b[0m\n\u001b[0m\u001b[1;32m    490\u001b[0m         \u001b[0;32mfor\u001b[0m \u001b[0mhook\u001b[0m \u001b[0;32min\u001b[0m \u001b[0mself\u001b[0m\u001b[0;34m.\u001b[0m\u001b[0m_forward_hooks\u001b[0m\u001b[0;34m.\u001b[0m\u001b[0mvalues\u001b[0m\u001b[0;34m(\u001b[0m\u001b[0;34m)\u001b[0m\u001b[0;34m:\u001b[0m\u001b[0;34m\u001b[0m\u001b[0m\n\u001b[1;32m    491\u001b[0m             \u001b[0mhook_result\u001b[0m \u001b[0;34m=\u001b[0m \u001b[0mhook\u001b[0m\u001b[0;34m(\u001b[0m\u001b[0mself\u001b[0m\u001b[0;34m,\u001b[0m \u001b[0minput\u001b[0m\u001b[0;34m,\u001b[0m \u001b[0mresult\u001b[0m\u001b[0;34m)\u001b[0m\u001b[0;34m\u001b[0m\u001b[0m\n",
      "\u001b[0;32m~/.local/lib/python3.5/site-packages/torch/nn/modules/conv.py\u001b[0m in \u001b[0;36mforward\u001b[0;34m(self, input)\u001b[0m\n\u001b[1;32m    318\u001b[0m     \u001b[0;32mdef\u001b[0m \u001b[0mforward\u001b[0m\u001b[0;34m(\u001b[0m\u001b[0mself\u001b[0m\u001b[0;34m,\u001b[0m \u001b[0minput\u001b[0m\u001b[0;34m)\u001b[0m\u001b[0;34m:\u001b[0m\u001b[0;34m\u001b[0m\u001b[0m\n\u001b[1;32m    319\u001b[0m         return F.conv2d(input, self.weight, self.bias, self.stride,\n\u001b[0;32m--> 320\u001b[0;31m                         self.padding, self.dilation, self.groups)\n\u001b[0m\u001b[1;32m    321\u001b[0m \u001b[0;34m\u001b[0m\u001b[0m\n\u001b[1;32m    322\u001b[0m \u001b[0;34m\u001b[0m\u001b[0m\n",
      "\u001b[0;31mRuntimeError\u001b[0m: $ Torch: not enough memory: you tried to allocate 0GB. Buy new RAM! at /pytorch/aten/src/TH/THGeneral.cpp:201"
     ]
    }
   ],
   "source": [
    "outputs = net(images).cpu()\n",
    "for index, output in enumerate(outputs[0]):\n",
    "    if output == 1:\n",
    "        print(radical_list[index])"
   ]
  },
  {
   "cell_type": "code",
   "execution_count": null,
   "metadata": {},
   "outputs": [],
   "source": []
  }
 ],
 "metadata": {
  "kernelspec": {
   "display_name": "Python 3",
   "language": "python",
   "name": "python3"
  },
  "language_info": {
   "codemirror_mode": {
    "name": "ipython",
    "version": 3
   },
   "file_extension": ".py",
   "mimetype": "text/x-python",
   "name": "python",
   "nbconvert_exporter": "python",
   "pygments_lexer": "ipython3",
   "version": "3.5.2"
  }
 },
 "nbformat": 4,
 "nbformat_minor": 2
}
